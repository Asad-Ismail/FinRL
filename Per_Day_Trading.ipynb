{
 "cells": [
  {
   "cell_type": "code",
   "execution_count": null,
   "metadata": {},
   "outputs": [],
   "source": [
    "#!pip install elegantrl"
   ]
  },
  {
   "cell_type": "code",
   "execution_count": null,
   "metadata": {},
   "outputs": [],
   "source": [
    "! pip install --user --upgrade tensorflow"
   ]
  },
  {
   "cell_type": "code",
   "execution_count": null,
   "metadata": {},
   "outputs": [],
   "source": [
    "! pip install --user --upgrade tensorboard"
   ]
  },
  {
   "cell_type": "code",
   "execution_count": 1,
   "metadata": {},
   "outputs": [
    {
     "name": "stderr",
     "output_type": "stream",
     "text": [
      "/home/ubuntu/.local/lib/python3.8/site-packages/pandas/core/computation/expressions.py:20: UserWarning: Pandas requires version '2.7.3' or newer of 'numexpr' (version '2.7.2' currently installed).\n",
      "  from pandas.core.computation.check import NUMEXPR_INSTALLED\n",
      "/home/ubuntu/.local/lib/python3.8/site-packages/pyfolio/pos.py:26: UserWarning: Module \"zipline.assets\" not found; multipliers will not be applied to position notionals.\n",
      "  warnings.warn(\n"
     ]
    }
   ],
   "source": [
    "import pandas as pd\n",
    "import numpy as np\n",
    "import matplotlib\n",
    "import matplotlib.pyplot as plt\n",
    "# matplotlib.use('Agg')\n",
    "import datetime\n",
    "\n",
    "%matplotlib inline\n",
    "from finrl.config_tickers import DOW_30_TICKER\n",
    "from finrl.meta.preprocessor.yahoodownloader import YahooDownloader\n",
    "from finrl.meta.preprocessor.preprocessors import FeatureEngineer, data_split\n",
    "from finrl.meta.env_stock_trading.env_stocktrading import StockTradingEnv\n",
    "from finrl.agents.stablebaselines3.models import DRLAgent,DRLEnsembleAgent\n",
    "from finrl.plot import backtest_stats, backtest_plot, get_daily_return, get_baseline\n",
    "\n",
    "from pprint import pprint\n",
    "import sys\n",
    "import itertools"
   ]
  },
  {
   "cell_type": "code",
   "execution_count": 2,
   "metadata": {},
   "outputs": [],
   "source": [
    "from finrl import config\n",
    "from finrl import config_tickers\n",
    "import os\n",
    "from finrl.main import check_and_make_directories\n",
    "from finrl.config import (\n",
    "    DATA_SAVE_DIR,\n",
    "    TRAINED_MODEL_DIR,\n",
    "    TENSORBOARD_LOG_DIR,\n",
    "    RESULTS_DIR,\n",
    "    INDICATORS,\n",
    "    TRAIN_START_DATE,\n",
    "    TRAIN_END_DATE,\n",
    "    TEST_START_DATE,\n",
    "    TEST_END_DATE,\n",
    "    TRADE_START_DATE,\n",
    "    TRADE_END_DATE,\n",
    ")\n",
    "check_and_make_directories([DATA_SAVE_DIR, TRAINED_MODEL_DIR, TENSORBOARD_LOG_DIR, RESULTS_DIR])"
   ]
  },
  {
   "cell_type": "code",
   "execution_count": 3,
   "metadata": {},
   "outputs": [
    {
     "name": "stdout",
     "output_type": "stream",
     "text": [
      "['AXP', 'AMGN', 'AAPL', 'BA', 'CAT', 'CSCO', 'CVX', 'GS', 'HD', 'HON', 'IBM', 'INTC', 'JNJ', 'KO', 'JPM', 'MCD', 'MMM', 'MRK', 'MSFT', 'NKE', 'PG', 'TRV', 'UNH', 'CRM', 'VZ', 'V', 'WBA', 'WMT', 'DIS', 'DOW']\n"
     ]
    }
   ],
   "source": [
    "print(DOW_30_TICKER)"
   ]
  },
  {
   "cell_type": "code",
   "execution_count": 4,
   "metadata": {},
   "outputs": [
    {
     "name": "stdout",
     "output_type": "stream",
     "text": [
      "[*********************100%***********************]  1 of 1 completed\n"
     ]
    },
    {
     "name": "stderr",
     "output_type": "stream",
     "text": [
      "/mnt/FinRL/finrl/meta/preprocessor/yahoodownloader.py:53: FutureWarning: The frame.append method is deprecated and will be removed from pandas in a future version. Use pandas.concat instead.\n",
      "  data_df = data_df.append(temp_df)\n"
     ]
    },
    {
     "name": "stdout",
     "output_type": "stream",
     "text": [
      "[*********************100%***********************]  1 of 1 completed\n"
     ]
    },
    {
     "name": "stderr",
     "output_type": "stream",
     "text": [
      "/mnt/FinRL/finrl/meta/preprocessor/yahoodownloader.py:53: FutureWarning: The frame.append method is deprecated and will be removed from pandas in a future version. Use pandas.concat instead.\n",
      "  data_df = data_df.append(temp_df)\n"
     ]
    },
    {
     "name": "stdout",
     "output_type": "stream",
     "text": [
      "[*********************100%***********************]  1 of 1 completed\n"
     ]
    },
    {
     "name": "stderr",
     "output_type": "stream",
     "text": [
      "/mnt/FinRL/finrl/meta/preprocessor/yahoodownloader.py:53: FutureWarning: The frame.append method is deprecated and will be removed from pandas in a future version. Use pandas.concat instead.\n",
      "  data_df = data_df.append(temp_df)\n"
     ]
    },
    {
     "name": "stdout",
     "output_type": "stream",
     "text": [
      "[*********************100%***********************]  1 of 1 completed\n"
     ]
    },
    {
     "name": "stderr",
     "output_type": "stream",
     "text": [
      "/mnt/FinRL/finrl/meta/preprocessor/yahoodownloader.py:53: FutureWarning: The frame.append method is deprecated and will be removed from pandas in a future version. Use pandas.concat instead.\n",
      "  data_df = data_df.append(temp_df)\n"
     ]
    },
    {
     "name": "stdout",
     "output_type": "stream",
     "text": [
      "[*********************100%***********************]  1 of 1 completed\n"
     ]
    },
    {
     "name": "stderr",
     "output_type": "stream",
     "text": [
      "/mnt/FinRL/finrl/meta/preprocessor/yahoodownloader.py:53: FutureWarning: The frame.append method is deprecated and will be removed from pandas in a future version. Use pandas.concat instead.\n",
      "  data_df = data_df.append(temp_df)\n"
     ]
    },
    {
     "name": "stdout",
     "output_type": "stream",
     "text": [
      "[*********************100%***********************]  1 of 1 completed\n"
     ]
    },
    {
     "name": "stderr",
     "output_type": "stream",
     "text": [
      "/mnt/FinRL/finrl/meta/preprocessor/yahoodownloader.py:53: FutureWarning: The frame.append method is deprecated and will be removed from pandas in a future version. Use pandas.concat instead.\n",
      "  data_df = data_df.append(temp_df)\n"
     ]
    },
    {
     "name": "stdout",
     "output_type": "stream",
     "text": [
      "[*********************100%***********************]  1 of 1 completed\n"
     ]
    },
    {
     "name": "stderr",
     "output_type": "stream",
     "text": [
      "/mnt/FinRL/finrl/meta/preprocessor/yahoodownloader.py:53: FutureWarning: The frame.append method is deprecated and will be removed from pandas in a future version. Use pandas.concat instead.\n",
      "  data_df = data_df.append(temp_df)\n"
     ]
    },
    {
     "name": "stdout",
     "output_type": "stream",
     "text": [
      "[*********************100%***********************]  1 of 1 completed\n"
     ]
    },
    {
     "name": "stderr",
     "output_type": "stream",
     "text": [
      "/mnt/FinRL/finrl/meta/preprocessor/yahoodownloader.py:53: FutureWarning: The frame.append method is deprecated and will be removed from pandas in a future version. Use pandas.concat instead.\n",
      "  data_df = data_df.append(temp_df)\n"
     ]
    },
    {
     "name": "stdout",
     "output_type": "stream",
     "text": [
      "[*********************100%***********************]  1 of 1 completed\n"
     ]
    },
    {
     "name": "stderr",
     "output_type": "stream",
     "text": [
      "/mnt/FinRL/finrl/meta/preprocessor/yahoodownloader.py:53: FutureWarning: The frame.append method is deprecated and will be removed from pandas in a future version. Use pandas.concat instead.\n",
      "  data_df = data_df.append(temp_df)\n"
     ]
    },
    {
     "name": "stdout",
     "output_type": "stream",
     "text": [
      "[*********************100%***********************]  1 of 1 completed\n"
     ]
    },
    {
     "name": "stderr",
     "output_type": "stream",
     "text": [
      "/mnt/FinRL/finrl/meta/preprocessor/yahoodownloader.py:53: FutureWarning: The frame.append method is deprecated and will be removed from pandas in a future version. Use pandas.concat instead.\n",
      "  data_df = data_df.append(temp_df)\n"
     ]
    },
    {
     "name": "stdout",
     "output_type": "stream",
     "text": [
      "[*********************100%***********************]  1 of 1 completed\n"
     ]
    },
    {
     "name": "stderr",
     "output_type": "stream",
     "text": [
      "/mnt/FinRL/finrl/meta/preprocessor/yahoodownloader.py:53: FutureWarning: The frame.append method is deprecated and will be removed from pandas in a future version. Use pandas.concat instead.\n",
      "  data_df = data_df.append(temp_df)\n"
     ]
    },
    {
     "name": "stdout",
     "output_type": "stream",
     "text": [
      "[*********************100%***********************]  1 of 1 completed\n"
     ]
    },
    {
     "name": "stderr",
     "output_type": "stream",
     "text": [
      "/mnt/FinRL/finrl/meta/preprocessor/yahoodownloader.py:53: FutureWarning: The frame.append method is deprecated and will be removed from pandas in a future version. Use pandas.concat instead.\n",
      "  data_df = data_df.append(temp_df)\n"
     ]
    },
    {
     "name": "stdout",
     "output_type": "stream",
     "text": [
      "[*********************100%***********************]  1 of 1 completed\n"
     ]
    },
    {
     "name": "stderr",
     "output_type": "stream",
     "text": [
      "/mnt/FinRL/finrl/meta/preprocessor/yahoodownloader.py:53: FutureWarning: The frame.append method is deprecated and will be removed from pandas in a future version. Use pandas.concat instead.\n",
      "  data_df = data_df.append(temp_df)\n"
     ]
    },
    {
     "name": "stdout",
     "output_type": "stream",
     "text": [
      "[*********************100%***********************]  1 of 1 completed\n"
     ]
    },
    {
     "name": "stderr",
     "output_type": "stream",
     "text": [
      "/mnt/FinRL/finrl/meta/preprocessor/yahoodownloader.py:53: FutureWarning: The frame.append method is deprecated and will be removed from pandas in a future version. Use pandas.concat instead.\n",
      "  data_df = data_df.append(temp_df)\n"
     ]
    },
    {
     "name": "stdout",
     "output_type": "stream",
     "text": [
      "[*********************100%***********************]  1 of 1 completed\n"
     ]
    },
    {
     "name": "stderr",
     "output_type": "stream",
     "text": [
      "/mnt/FinRL/finrl/meta/preprocessor/yahoodownloader.py:53: FutureWarning: The frame.append method is deprecated and will be removed from pandas in a future version. Use pandas.concat instead.\n",
      "  data_df = data_df.append(temp_df)\n"
     ]
    },
    {
     "name": "stdout",
     "output_type": "stream",
     "text": [
      "[*********************100%***********************]  1 of 1 completed\n"
     ]
    },
    {
     "name": "stderr",
     "output_type": "stream",
     "text": [
      "/mnt/FinRL/finrl/meta/preprocessor/yahoodownloader.py:53: FutureWarning: The frame.append method is deprecated and will be removed from pandas in a future version. Use pandas.concat instead.\n",
      "  data_df = data_df.append(temp_df)\n"
     ]
    },
    {
     "name": "stdout",
     "output_type": "stream",
     "text": [
      "[*********************100%***********************]  1 of 1 completed\n"
     ]
    },
    {
     "name": "stderr",
     "output_type": "stream",
     "text": [
      "/mnt/FinRL/finrl/meta/preprocessor/yahoodownloader.py:53: FutureWarning: The frame.append method is deprecated and will be removed from pandas in a future version. Use pandas.concat instead.\n",
      "  data_df = data_df.append(temp_df)\n"
     ]
    },
    {
     "name": "stdout",
     "output_type": "stream",
     "text": [
      "[*********************100%***********************]  1 of 1 completed\n"
     ]
    },
    {
     "name": "stderr",
     "output_type": "stream",
     "text": [
      "/mnt/FinRL/finrl/meta/preprocessor/yahoodownloader.py:53: FutureWarning: The frame.append method is deprecated and will be removed from pandas in a future version. Use pandas.concat instead.\n",
      "  data_df = data_df.append(temp_df)\n"
     ]
    },
    {
     "name": "stdout",
     "output_type": "stream",
     "text": [
      "[*********************100%***********************]  1 of 1 completed\n"
     ]
    },
    {
     "name": "stderr",
     "output_type": "stream",
     "text": [
      "/mnt/FinRL/finrl/meta/preprocessor/yahoodownloader.py:53: FutureWarning: The frame.append method is deprecated and will be removed from pandas in a future version. Use pandas.concat instead.\n",
      "  data_df = data_df.append(temp_df)\n"
     ]
    },
    {
     "name": "stdout",
     "output_type": "stream",
     "text": [
      "[*********************100%***********************]  1 of 1 completed\n"
     ]
    },
    {
     "name": "stderr",
     "output_type": "stream",
     "text": [
      "/mnt/FinRL/finrl/meta/preprocessor/yahoodownloader.py:53: FutureWarning: The frame.append method is deprecated and will be removed from pandas in a future version. Use pandas.concat instead.\n",
      "  data_df = data_df.append(temp_df)\n"
     ]
    },
    {
     "name": "stdout",
     "output_type": "stream",
     "text": [
      "[*********************100%***********************]  1 of 1 completed\n"
     ]
    },
    {
     "name": "stderr",
     "output_type": "stream",
     "text": [
      "/mnt/FinRL/finrl/meta/preprocessor/yahoodownloader.py:53: FutureWarning: The frame.append method is deprecated and will be removed from pandas in a future version. Use pandas.concat instead.\n",
      "  data_df = data_df.append(temp_df)\n"
     ]
    },
    {
     "name": "stdout",
     "output_type": "stream",
     "text": [
      "[*********************100%***********************]  1 of 1 completed\n"
     ]
    },
    {
     "name": "stderr",
     "output_type": "stream",
     "text": [
      "/mnt/FinRL/finrl/meta/preprocessor/yahoodownloader.py:53: FutureWarning: The frame.append method is deprecated and will be removed from pandas in a future version. Use pandas.concat instead.\n",
      "  data_df = data_df.append(temp_df)\n"
     ]
    },
    {
     "name": "stdout",
     "output_type": "stream",
     "text": [
      "[*********************100%***********************]  1 of 1 completed\n"
     ]
    },
    {
     "name": "stderr",
     "output_type": "stream",
     "text": [
      "/mnt/FinRL/finrl/meta/preprocessor/yahoodownloader.py:53: FutureWarning: The frame.append method is deprecated and will be removed from pandas in a future version. Use pandas.concat instead.\n",
      "  data_df = data_df.append(temp_df)\n"
     ]
    },
    {
     "name": "stdout",
     "output_type": "stream",
     "text": [
      "[*********************100%***********************]  1 of 1 completed\n"
     ]
    },
    {
     "name": "stderr",
     "output_type": "stream",
     "text": [
      "/mnt/FinRL/finrl/meta/preprocessor/yahoodownloader.py:53: FutureWarning: The frame.append method is deprecated and will be removed from pandas in a future version. Use pandas.concat instead.\n",
      "  data_df = data_df.append(temp_df)\n"
     ]
    },
    {
     "name": "stdout",
     "output_type": "stream",
     "text": [
      "[*********************100%***********************]  1 of 1 completed\n"
     ]
    },
    {
     "name": "stderr",
     "output_type": "stream",
     "text": [
      "/mnt/FinRL/finrl/meta/preprocessor/yahoodownloader.py:53: FutureWarning: The frame.append method is deprecated and will be removed from pandas in a future version. Use pandas.concat instead.\n",
      "  data_df = data_df.append(temp_df)\n"
     ]
    },
    {
     "name": "stdout",
     "output_type": "stream",
     "text": [
      "[*********************100%***********************]  1 of 1 completed\n"
     ]
    },
    {
     "name": "stderr",
     "output_type": "stream",
     "text": [
      "/mnt/FinRL/finrl/meta/preprocessor/yahoodownloader.py:53: FutureWarning: The frame.append method is deprecated and will be removed from pandas in a future version. Use pandas.concat instead.\n",
      "  data_df = data_df.append(temp_df)\n"
     ]
    },
    {
     "name": "stdout",
     "output_type": "stream",
     "text": [
      "[*********************100%***********************]  1 of 1 completed\n"
     ]
    },
    {
     "name": "stderr",
     "output_type": "stream",
     "text": [
      "/mnt/FinRL/finrl/meta/preprocessor/yahoodownloader.py:53: FutureWarning: The frame.append method is deprecated and will be removed from pandas in a future version. Use pandas.concat instead.\n",
      "  data_df = data_df.append(temp_df)\n"
     ]
    },
    {
     "name": "stdout",
     "output_type": "stream",
     "text": [
      "[*********************100%***********************]  1 of 1 completed\n"
     ]
    },
    {
     "name": "stderr",
     "output_type": "stream",
     "text": [
      "/mnt/FinRL/finrl/meta/preprocessor/yahoodownloader.py:53: FutureWarning: The frame.append method is deprecated and will be removed from pandas in a future version. Use pandas.concat instead.\n",
      "  data_df = data_df.append(temp_df)\n"
     ]
    },
    {
     "name": "stdout",
     "output_type": "stream",
     "text": [
      "[*********************100%***********************]  1 of 1 completed\n",
      "[*********************100%***********************]  1 of 1 completed\n"
     ]
    },
    {
     "name": "stderr",
     "output_type": "stream",
     "text": [
      "/mnt/FinRL/finrl/meta/preprocessor/yahoodownloader.py:53: FutureWarning: The frame.append method is deprecated and will be removed from pandas in a future version. Use pandas.concat instead.\n",
      "  data_df = data_df.append(temp_df)\n",
      "/mnt/FinRL/finrl/meta/preprocessor/yahoodownloader.py:53: FutureWarning: The frame.append method is deprecated and will be removed from pandas in a future version. Use pandas.concat instead.\n",
      "  data_df = data_df.append(temp_df)\n"
     ]
    },
    {
     "name": "stdout",
     "output_type": "stream",
     "text": [
      "Shape of DataFrame:  (130769, 8)\n"
     ]
    }
   ],
   "source": [
    "TRAIN_START_DATE = '2005-04-01'\n",
    "TRAIN_END_DATE = '2022-01-01'\n",
    "TEST_START_DATE = '2022-01-01'\n",
    "# Test date is something unreachable in this lifetime\n",
    "TEST_END_DATE = '2080-02-16'\n",
    "\n",
    "df = YahooDownloader(start_date = TRAIN_START_DATE,\n",
    "                     end_date = TEST_END_DATE,\n",
    "                     ticker_list = DOW_30_TICKER).fetch_data()"
   ]
  },
  {
   "cell_type": "code",
   "execution_count": 5,
   "metadata": {},
   "outputs": [
    {
     "data": {
      "text/plain": [
       "(130769, 8)"
      ]
     },
     "execution_count": 5,
     "metadata": {},
     "output_type": "execute_result"
    }
   ],
   "source": [
    "df.shape"
   ]
  },
  {
   "cell_type": "code",
   "execution_count": 6,
   "metadata": {},
   "outputs": [
    {
     "name": "stderr",
     "output_type": "stream",
     "text": [
      "/mnt/FinRL/finrl/meta/preprocessor/preprocessors.py:158: FutureWarning: The frame.append method is deprecated and will be removed from pandas in a future version. Use pandas.concat instead.\n",
      "  indicator_df = indicator_df.append(\n",
      "/mnt/FinRL/finrl/meta/preprocessor/preprocessors.py:158: FutureWarning: The frame.append method is deprecated and will be removed from pandas in a future version. Use pandas.concat instead.\n",
      "  indicator_df = indicator_df.append(\n",
      "/mnt/FinRL/finrl/meta/preprocessor/preprocessors.py:158: FutureWarning: The frame.append method is deprecated and will be removed from pandas in a future version. Use pandas.concat instead.\n",
      "  indicator_df = indicator_df.append(\n",
      "/mnt/FinRL/finrl/meta/preprocessor/preprocessors.py:158: FutureWarning: The frame.append method is deprecated and will be removed from pandas in a future version. Use pandas.concat instead.\n",
      "  indicator_df = indicator_df.append(\n",
      "/mnt/FinRL/finrl/meta/preprocessor/preprocessors.py:158: FutureWarning: The frame.append method is deprecated and will be removed from pandas in a future version. Use pandas.concat instead.\n",
      "  indicator_df = indicator_df.append(\n",
      "/mnt/FinRL/finrl/meta/preprocessor/preprocessors.py:158: FutureWarning: The frame.append method is deprecated and will be removed from pandas in a future version. Use pandas.concat instead.\n",
      "  indicator_df = indicator_df.append(\n",
      "/mnt/FinRL/finrl/meta/preprocessor/preprocessors.py:158: FutureWarning: The frame.append method is deprecated and will be removed from pandas in a future version. Use pandas.concat instead.\n",
      "  indicator_df = indicator_df.append(\n",
      "/mnt/FinRL/finrl/meta/preprocessor/preprocessors.py:158: FutureWarning: The frame.append method is deprecated and will be removed from pandas in a future version. Use pandas.concat instead.\n",
      "  indicator_df = indicator_df.append(\n",
      "/mnt/FinRL/finrl/meta/preprocessor/preprocessors.py:158: FutureWarning: The frame.append method is deprecated and will be removed from pandas in a future version. Use pandas.concat instead.\n",
      "  indicator_df = indicator_df.append(\n",
      "/mnt/FinRL/finrl/meta/preprocessor/preprocessors.py:158: FutureWarning: The frame.append method is deprecated and will be removed from pandas in a future version. Use pandas.concat instead.\n",
      "  indicator_df = indicator_df.append(\n",
      "/mnt/FinRL/finrl/meta/preprocessor/preprocessors.py:158: FutureWarning: The frame.append method is deprecated and will be removed from pandas in a future version. Use pandas.concat instead.\n",
      "  indicator_df = indicator_df.append(\n",
      "/mnt/FinRL/finrl/meta/preprocessor/preprocessors.py:158: FutureWarning: The frame.append method is deprecated and will be removed from pandas in a future version. Use pandas.concat instead.\n",
      "  indicator_df = indicator_df.append(\n",
      "/mnt/FinRL/finrl/meta/preprocessor/preprocessors.py:158: FutureWarning: The frame.append method is deprecated and will be removed from pandas in a future version. Use pandas.concat instead.\n",
      "  indicator_df = indicator_df.append(\n",
      "/mnt/FinRL/finrl/meta/preprocessor/preprocessors.py:158: FutureWarning: The frame.append method is deprecated and will be removed from pandas in a future version. Use pandas.concat instead.\n",
      "  indicator_df = indicator_df.append(\n",
      "/mnt/FinRL/finrl/meta/preprocessor/preprocessors.py:158: FutureWarning: The frame.append method is deprecated and will be removed from pandas in a future version. Use pandas.concat instead.\n",
      "  indicator_df = indicator_df.append(\n",
      "/mnt/FinRL/finrl/meta/preprocessor/preprocessors.py:158: FutureWarning: The frame.append method is deprecated and will be removed from pandas in a future version. Use pandas.concat instead.\n",
      "  indicator_df = indicator_df.append(\n",
      "/mnt/FinRL/finrl/meta/preprocessor/preprocessors.py:158: FutureWarning: The frame.append method is deprecated and will be removed from pandas in a future version. Use pandas.concat instead.\n",
      "  indicator_df = indicator_df.append(\n",
      "/mnt/FinRL/finrl/meta/preprocessor/preprocessors.py:158: FutureWarning: The frame.append method is deprecated and will be removed from pandas in a future version. Use pandas.concat instead.\n",
      "  indicator_df = indicator_df.append(\n",
      "/mnt/FinRL/finrl/meta/preprocessor/preprocessors.py:158: FutureWarning: The frame.append method is deprecated and will be removed from pandas in a future version. Use pandas.concat instead.\n",
      "  indicator_df = indicator_df.append(\n",
      "/mnt/FinRL/finrl/meta/preprocessor/preprocessors.py:158: FutureWarning: The frame.append method is deprecated and will be removed from pandas in a future version. Use pandas.concat instead.\n",
      "  indicator_df = indicator_df.append(\n",
      "/mnt/FinRL/finrl/meta/preprocessor/preprocessors.py:158: FutureWarning: The frame.append method is deprecated and will be removed from pandas in a future version. Use pandas.concat instead.\n",
      "  indicator_df = indicator_df.append(\n",
      "/mnt/FinRL/finrl/meta/preprocessor/preprocessors.py:158: FutureWarning: The frame.append method is deprecated and will be removed from pandas in a future version. Use pandas.concat instead.\n",
      "  indicator_df = indicator_df.append(\n",
      "/mnt/FinRL/finrl/meta/preprocessor/preprocessors.py:158: FutureWarning: The frame.append method is deprecated and will be removed from pandas in a future version. Use pandas.concat instead.\n",
      "  indicator_df = indicator_df.append(\n",
      "/mnt/FinRL/finrl/meta/preprocessor/preprocessors.py:158: FutureWarning: The frame.append method is deprecated and will be removed from pandas in a future version. Use pandas.concat instead.\n",
      "  indicator_df = indicator_df.append(\n",
      "/mnt/FinRL/finrl/meta/preprocessor/preprocessors.py:158: FutureWarning: The frame.append method is deprecated and will be removed from pandas in a future version. Use pandas.concat instead.\n",
      "  indicator_df = indicator_df.append(\n",
      "/mnt/FinRL/finrl/meta/preprocessor/preprocessors.py:158: FutureWarning: The frame.append method is deprecated and will be removed from pandas in a future version. Use pandas.concat instead.\n",
      "  indicator_df = indicator_df.append(\n",
      "/mnt/FinRL/finrl/meta/preprocessor/preprocessors.py:158: FutureWarning: The frame.append method is deprecated and will be removed from pandas in a future version. Use pandas.concat instead.\n",
      "  indicator_df = indicator_df.append(\n",
      "/mnt/FinRL/finrl/meta/preprocessor/preprocessors.py:158: FutureWarning: The frame.append method is deprecated and will be removed from pandas in a future version. Use pandas.concat instead.\n",
      "  indicator_df = indicator_df.append(\n",
      "/mnt/FinRL/finrl/meta/preprocessor/preprocessors.py:158: FutureWarning: The frame.append method is deprecated and will be removed from pandas in a future version. Use pandas.concat instead.\n",
      "  indicator_df = indicator_df.append(\n",
      "/mnt/FinRL/finrl/meta/preprocessor/preprocessors.py:158: FutureWarning: The frame.append method is deprecated and will be removed from pandas in a future version. Use pandas.concat instead.\n",
      "  indicator_df = indicator_df.append(\n",
      "/mnt/FinRL/finrl/meta/preprocessor/preprocessors.py:158: FutureWarning: The frame.append method is deprecated and will be removed from pandas in a future version. Use pandas.concat instead.\n",
      "  indicator_df = indicator_df.append(\n",
      "/mnt/FinRL/finrl/meta/preprocessor/preprocessors.py:158: FutureWarning: The frame.append method is deprecated and will be removed from pandas in a future version. Use pandas.concat instead.\n",
      "  indicator_df = indicator_df.append(\n",
      "/mnt/FinRL/finrl/meta/preprocessor/preprocessors.py:158: FutureWarning: The frame.append method is deprecated and will be removed from pandas in a future version. Use pandas.concat instead.\n",
      "  indicator_df = indicator_df.append(\n",
      "/mnt/FinRL/finrl/meta/preprocessor/preprocessors.py:158: FutureWarning: The frame.append method is deprecated and will be removed from pandas in a future version. Use pandas.concat instead.\n",
      "  indicator_df = indicator_df.append(\n",
      "/mnt/FinRL/finrl/meta/preprocessor/preprocessors.py:158: FutureWarning: The frame.append method is deprecated and will be removed from pandas in a future version. Use pandas.concat instead.\n",
      "  indicator_df = indicator_df.append(\n",
      "/mnt/FinRL/finrl/meta/preprocessor/preprocessors.py:158: FutureWarning: The frame.append method is deprecated and will be removed from pandas in a future version. Use pandas.concat instead.\n",
      "  indicator_df = indicator_df.append(\n",
      "/mnt/FinRL/finrl/meta/preprocessor/preprocessors.py:158: FutureWarning: The frame.append method is deprecated and will be removed from pandas in a future version. Use pandas.concat instead.\n",
      "  indicator_df = indicator_df.append(\n",
      "/mnt/FinRL/finrl/meta/preprocessor/preprocessors.py:158: FutureWarning: The frame.append method is deprecated and will be removed from pandas in a future version. Use pandas.concat instead.\n",
      "  indicator_df = indicator_df.append(\n"
     ]
    },
    {
     "name": "stderr",
     "output_type": "stream",
     "text": [
      "/mnt/FinRL/finrl/meta/preprocessor/preprocessors.py:158: FutureWarning: The frame.append method is deprecated and will be removed from pandas in a future version. Use pandas.concat instead.\n",
      "  indicator_df = indicator_df.append(\n",
      "/mnt/FinRL/finrl/meta/preprocessor/preprocessors.py:158: FutureWarning: The frame.append method is deprecated and will be removed from pandas in a future version. Use pandas.concat instead.\n",
      "  indicator_df = indicator_df.append(\n",
      "/mnt/FinRL/finrl/meta/preprocessor/preprocessors.py:158: FutureWarning: The frame.append method is deprecated and will be removed from pandas in a future version. Use pandas.concat instead.\n",
      "  indicator_df = indicator_df.append(\n",
      "/mnt/FinRL/finrl/meta/preprocessor/preprocessors.py:158: FutureWarning: The frame.append method is deprecated and will be removed from pandas in a future version. Use pandas.concat instead.\n",
      "  indicator_df = indicator_df.append(\n",
      "/mnt/FinRL/finrl/meta/preprocessor/preprocessors.py:158: FutureWarning: The frame.append method is deprecated and will be removed from pandas in a future version. Use pandas.concat instead.\n",
      "  indicator_df = indicator_df.append(\n",
      "/mnt/FinRL/finrl/meta/preprocessor/preprocessors.py:158: FutureWarning: The frame.append method is deprecated and will be removed from pandas in a future version. Use pandas.concat instead.\n",
      "  indicator_df = indicator_df.append(\n",
      "/mnt/FinRL/finrl/meta/preprocessor/preprocessors.py:158: FutureWarning: The frame.append method is deprecated and will be removed from pandas in a future version. Use pandas.concat instead.\n",
      "  indicator_df = indicator_df.append(\n",
      "/mnt/FinRL/finrl/meta/preprocessor/preprocessors.py:158: FutureWarning: The frame.append method is deprecated and will be removed from pandas in a future version. Use pandas.concat instead.\n",
      "  indicator_df = indicator_df.append(\n",
      "/mnt/FinRL/finrl/meta/preprocessor/preprocessors.py:158: FutureWarning: The frame.append method is deprecated and will be removed from pandas in a future version. Use pandas.concat instead.\n",
      "  indicator_df = indicator_df.append(\n",
      "/mnt/FinRL/finrl/meta/preprocessor/preprocessors.py:158: FutureWarning: The frame.append method is deprecated and will be removed from pandas in a future version. Use pandas.concat instead.\n",
      "  indicator_df = indicator_df.append(\n",
      "/mnt/FinRL/finrl/meta/preprocessor/preprocessors.py:158: FutureWarning: The frame.append method is deprecated and will be removed from pandas in a future version. Use pandas.concat instead.\n",
      "  indicator_df = indicator_df.append(\n",
      "/mnt/FinRL/finrl/meta/preprocessor/preprocessors.py:158: FutureWarning: The frame.append method is deprecated and will be removed from pandas in a future version. Use pandas.concat instead.\n",
      "  indicator_df = indicator_df.append(\n",
      "/mnt/FinRL/finrl/meta/preprocessor/preprocessors.py:158: FutureWarning: The frame.append method is deprecated and will be removed from pandas in a future version. Use pandas.concat instead.\n",
      "  indicator_df = indicator_df.append(\n",
      "/mnt/FinRL/finrl/meta/preprocessor/preprocessors.py:158: FutureWarning: The frame.append method is deprecated and will be removed from pandas in a future version. Use pandas.concat instead.\n",
      "  indicator_df = indicator_df.append(\n",
      "/mnt/FinRL/finrl/meta/preprocessor/preprocessors.py:158: FutureWarning: The frame.append method is deprecated and will be removed from pandas in a future version. Use pandas.concat instead.\n",
      "  indicator_df = indicator_df.append(\n",
      "/mnt/FinRL/finrl/meta/preprocessor/preprocessors.py:158: FutureWarning: The frame.append method is deprecated and will be removed from pandas in a future version. Use pandas.concat instead.\n",
      "  indicator_df = indicator_df.append(\n",
      "/mnt/FinRL/finrl/meta/preprocessor/preprocessors.py:158: FutureWarning: The frame.append method is deprecated and will be removed from pandas in a future version. Use pandas.concat instead.\n",
      "  indicator_df = indicator_df.append(\n",
      "/mnt/FinRL/finrl/meta/preprocessor/preprocessors.py:158: FutureWarning: The frame.append method is deprecated and will be removed from pandas in a future version. Use pandas.concat instead.\n",
      "  indicator_df = indicator_df.append(\n",
      "/mnt/FinRL/finrl/meta/preprocessor/preprocessors.py:158: FutureWarning: The frame.append method is deprecated and will be removed from pandas in a future version. Use pandas.concat instead.\n",
      "  indicator_df = indicator_df.append(\n",
      "/mnt/FinRL/finrl/meta/preprocessor/preprocessors.py:158: FutureWarning: The frame.append method is deprecated and will be removed from pandas in a future version. Use pandas.concat instead.\n",
      "  indicator_df = indicator_df.append(\n",
      "/mnt/FinRL/finrl/meta/preprocessor/preprocessors.py:158: FutureWarning: The frame.append method is deprecated and will be removed from pandas in a future version. Use pandas.concat instead.\n",
      "  indicator_df = indicator_df.append(\n",
      "/mnt/FinRL/finrl/meta/preprocessor/preprocessors.py:158: FutureWarning: The frame.append method is deprecated and will be removed from pandas in a future version. Use pandas.concat instead.\n",
      "  indicator_df = indicator_df.append(\n",
      "/mnt/FinRL/finrl/meta/preprocessor/preprocessors.py:158: FutureWarning: The frame.append method is deprecated and will be removed from pandas in a future version. Use pandas.concat instead.\n",
      "  indicator_df = indicator_df.append(\n",
      "/mnt/FinRL/finrl/meta/preprocessor/preprocessors.py:158: FutureWarning: The frame.append method is deprecated and will be removed from pandas in a future version. Use pandas.concat instead.\n",
      "  indicator_df = indicator_df.append(\n",
      "/mnt/FinRL/finrl/meta/preprocessor/preprocessors.py:158: FutureWarning: The frame.append method is deprecated and will be removed from pandas in a future version. Use pandas.concat instead.\n",
      "  indicator_df = indicator_df.append(\n",
      "/mnt/FinRL/finrl/meta/preprocessor/preprocessors.py:158: FutureWarning: The frame.append method is deprecated and will be removed from pandas in a future version. Use pandas.concat instead.\n",
      "  indicator_df = indicator_df.append(\n",
      "/mnt/FinRL/finrl/meta/preprocessor/preprocessors.py:158: FutureWarning: The frame.append method is deprecated and will be removed from pandas in a future version. Use pandas.concat instead.\n",
      "  indicator_df = indicator_df.append(\n",
      "/mnt/FinRL/finrl/meta/preprocessor/preprocessors.py:158: FutureWarning: The frame.append method is deprecated and will be removed from pandas in a future version. Use pandas.concat instead.\n",
      "  indicator_df = indicator_df.append(\n",
      "/mnt/FinRL/finrl/meta/preprocessor/preprocessors.py:158: FutureWarning: The frame.append method is deprecated and will be removed from pandas in a future version. Use pandas.concat instead.\n",
      "  indicator_df = indicator_df.append(\n",
      "/mnt/FinRL/finrl/meta/preprocessor/preprocessors.py:158: FutureWarning: The frame.append method is deprecated and will be removed from pandas in a future version. Use pandas.concat instead.\n",
      "  indicator_df = indicator_df.append(\n",
      "/mnt/FinRL/finrl/meta/preprocessor/preprocessors.py:158: FutureWarning: The frame.append method is deprecated and will be removed from pandas in a future version. Use pandas.concat instead.\n",
      "  indicator_df = indicator_df.append(\n",
      "/mnt/FinRL/finrl/meta/preprocessor/preprocessors.py:158: FutureWarning: The frame.append method is deprecated and will be removed from pandas in a future version. Use pandas.concat instead.\n",
      "  indicator_df = indicator_df.append(\n",
      "/mnt/FinRL/finrl/meta/preprocessor/preprocessors.py:158: FutureWarning: The frame.append method is deprecated and will be removed from pandas in a future version. Use pandas.concat instead.\n",
      "  indicator_df = indicator_df.append(\n",
      "/mnt/FinRL/finrl/meta/preprocessor/preprocessors.py:158: FutureWarning: The frame.append method is deprecated and will be removed from pandas in a future version. Use pandas.concat instead.\n",
      "  indicator_df = indicator_df.append(\n",
      "/mnt/FinRL/finrl/meta/preprocessor/preprocessors.py:158: FutureWarning: The frame.append method is deprecated and will be removed from pandas in a future version. Use pandas.concat instead.\n",
      "  indicator_df = indicator_df.append(\n",
      "/mnt/FinRL/finrl/meta/preprocessor/preprocessors.py:158: FutureWarning: The frame.append method is deprecated and will be removed from pandas in a future version. Use pandas.concat instead.\n",
      "  indicator_df = indicator_df.append(\n",
      "/mnt/FinRL/finrl/meta/preprocessor/preprocessors.py:158: FutureWarning: The frame.append method is deprecated and will be removed from pandas in a future version. Use pandas.concat instead.\n",
      "  indicator_df = indicator_df.append(\n",
      "/mnt/FinRL/finrl/meta/preprocessor/preprocessors.py:158: FutureWarning: The frame.append method is deprecated and will be removed from pandas in a future version. Use pandas.concat instead.\n",
      "  indicator_df = indicator_df.append(\n",
      "/mnt/FinRL/finrl/meta/preprocessor/preprocessors.py:158: FutureWarning: The frame.append method is deprecated and will be removed from pandas in a future version. Use pandas.concat instead.\n",
      "  indicator_df = indicator_df.append(\n"
     ]
    },
    {
     "name": "stderr",
     "output_type": "stream",
     "text": [
      "/mnt/FinRL/finrl/meta/preprocessor/preprocessors.py:158: FutureWarning: The frame.append method is deprecated and will be removed from pandas in a future version. Use pandas.concat instead.\n",
      "  indicator_df = indicator_df.append(\n",
      "/mnt/FinRL/finrl/meta/preprocessor/preprocessors.py:158: FutureWarning: The frame.append method is deprecated and will be removed from pandas in a future version. Use pandas.concat instead.\n",
      "  indicator_df = indicator_df.append(\n",
      "/mnt/FinRL/finrl/meta/preprocessor/preprocessors.py:158: FutureWarning: The frame.append method is deprecated and will be removed from pandas in a future version. Use pandas.concat instead.\n",
      "  indicator_df = indicator_df.append(\n",
      "/mnt/FinRL/finrl/meta/preprocessor/preprocessors.py:158: FutureWarning: The frame.append method is deprecated and will be removed from pandas in a future version. Use pandas.concat instead.\n",
      "  indicator_df = indicator_df.append(\n",
      "/mnt/FinRL/finrl/meta/preprocessor/preprocessors.py:158: FutureWarning: The frame.append method is deprecated and will be removed from pandas in a future version. Use pandas.concat instead.\n",
      "  indicator_df = indicator_df.append(\n",
      "/mnt/FinRL/finrl/meta/preprocessor/preprocessors.py:158: FutureWarning: The frame.append method is deprecated and will be removed from pandas in a future version. Use pandas.concat instead.\n",
      "  indicator_df = indicator_df.append(\n",
      "/mnt/FinRL/finrl/meta/preprocessor/preprocessors.py:158: FutureWarning: The frame.append method is deprecated and will be removed from pandas in a future version. Use pandas.concat instead.\n",
      "  indicator_df = indicator_df.append(\n",
      "/mnt/FinRL/finrl/meta/preprocessor/preprocessors.py:158: FutureWarning: The frame.append method is deprecated and will be removed from pandas in a future version. Use pandas.concat instead.\n",
      "  indicator_df = indicator_df.append(\n",
      "/mnt/FinRL/finrl/meta/preprocessor/preprocessors.py:158: FutureWarning: The frame.append method is deprecated and will be removed from pandas in a future version. Use pandas.concat instead.\n",
      "  indicator_df = indicator_df.append(\n",
      "/mnt/FinRL/finrl/meta/preprocessor/preprocessors.py:158: FutureWarning: The frame.append method is deprecated and will be removed from pandas in a future version. Use pandas.concat instead.\n",
      "  indicator_df = indicator_df.append(\n",
      "/mnt/FinRL/finrl/meta/preprocessor/preprocessors.py:158: FutureWarning: The frame.append method is deprecated and will be removed from pandas in a future version. Use pandas.concat instead.\n",
      "  indicator_df = indicator_df.append(\n",
      "/mnt/FinRL/finrl/meta/preprocessor/preprocessors.py:158: FutureWarning: The frame.append method is deprecated and will be removed from pandas in a future version. Use pandas.concat instead.\n",
      "  indicator_df = indicator_df.append(\n",
      "/mnt/FinRL/finrl/meta/preprocessor/preprocessors.py:158: FutureWarning: The frame.append method is deprecated and will be removed from pandas in a future version. Use pandas.concat instead.\n",
      "  indicator_df = indicator_df.append(\n",
      "/mnt/FinRL/finrl/meta/preprocessor/preprocessors.py:158: FutureWarning: The frame.append method is deprecated and will be removed from pandas in a future version. Use pandas.concat instead.\n",
      "  indicator_df = indicator_df.append(\n",
      "/mnt/FinRL/finrl/meta/preprocessor/preprocessors.py:158: FutureWarning: The frame.append method is deprecated and will be removed from pandas in a future version. Use pandas.concat instead.\n",
      "  indicator_df = indicator_df.append(\n",
      "/mnt/FinRL/finrl/meta/preprocessor/preprocessors.py:158: FutureWarning: The frame.append method is deprecated and will be removed from pandas in a future version. Use pandas.concat instead.\n",
      "  indicator_df = indicator_df.append(\n",
      "/mnt/FinRL/finrl/meta/preprocessor/preprocessors.py:158: FutureWarning: The frame.append method is deprecated and will be removed from pandas in a future version. Use pandas.concat instead.\n",
      "  indicator_df = indicator_df.append(\n",
      "/mnt/FinRL/finrl/meta/preprocessor/preprocessors.py:158: FutureWarning: The frame.append method is deprecated and will be removed from pandas in a future version. Use pandas.concat instead.\n",
      "  indicator_df = indicator_df.append(\n",
      "/mnt/FinRL/finrl/meta/preprocessor/preprocessors.py:158: FutureWarning: The frame.append method is deprecated and will be removed from pandas in a future version. Use pandas.concat instead.\n",
      "  indicator_df = indicator_df.append(\n",
      "/mnt/FinRL/finrl/meta/preprocessor/preprocessors.py:158: FutureWarning: The frame.append method is deprecated and will be removed from pandas in a future version. Use pandas.concat instead.\n",
      "  indicator_df = indicator_df.append(\n",
      "/mnt/FinRL/finrl/meta/preprocessor/preprocessors.py:158: FutureWarning: The frame.append method is deprecated and will be removed from pandas in a future version. Use pandas.concat instead.\n",
      "  indicator_df = indicator_df.append(\n",
      "/mnt/FinRL/finrl/meta/preprocessor/preprocessors.py:158: FutureWarning: The frame.append method is deprecated and will be removed from pandas in a future version. Use pandas.concat instead.\n",
      "  indicator_df = indicator_df.append(\n",
      "/mnt/FinRL/finrl/meta/preprocessor/preprocessors.py:158: FutureWarning: The frame.append method is deprecated and will be removed from pandas in a future version. Use pandas.concat instead.\n",
      "  indicator_df = indicator_df.append(\n",
      "/mnt/FinRL/finrl/meta/preprocessor/preprocessors.py:158: FutureWarning: The frame.append method is deprecated and will be removed from pandas in a future version. Use pandas.concat instead.\n",
      "  indicator_df = indicator_df.append(\n",
      "/mnt/FinRL/finrl/meta/preprocessor/preprocessors.py:158: FutureWarning: The frame.append method is deprecated and will be removed from pandas in a future version. Use pandas.concat instead.\n",
      "  indicator_df = indicator_df.append(\n",
      "/mnt/FinRL/finrl/meta/preprocessor/preprocessors.py:158: FutureWarning: The frame.append method is deprecated and will be removed from pandas in a future version. Use pandas.concat instead.\n",
      "  indicator_df = indicator_df.append(\n",
      "/mnt/FinRL/finrl/meta/preprocessor/preprocessors.py:158: FutureWarning: The frame.append method is deprecated and will be removed from pandas in a future version. Use pandas.concat instead.\n",
      "  indicator_df = indicator_df.append(\n",
      "/mnt/FinRL/finrl/meta/preprocessor/preprocessors.py:158: FutureWarning: The frame.append method is deprecated and will be removed from pandas in a future version. Use pandas.concat instead.\n",
      "  indicator_df = indicator_df.append(\n",
      "/mnt/FinRL/finrl/meta/preprocessor/preprocessors.py:158: FutureWarning: The frame.append method is deprecated and will be removed from pandas in a future version. Use pandas.concat instead.\n",
      "  indicator_df = indicator_df.append(\n",
      "/mnt/FinRL/finrl/meta/preprocessor/preprocessors.py:158: FutureWarning: The frame.append method is deprecated and will be removed from pandas in a future version. Use pandas.concat instead.\n",
      "  indicator_df = indicator_df.append(\n",
      "/mnt/FinRL/finrl/meta/preprocessor/preprocessors.py:158: FutureWarning: The frame.append method is deprecated and will be removed from pandas in a future version. Use pandas.concat instead.\n",
      "  indicator_df = indicator_df.append(\n",
      "/mnt/FinRL/finrl/meta/preprocessor/preprocessors.py:158: FutureWarning: The frame.append method is deprecated and will be removed from pandas in a future version. Use pandas.concat instead.\n",
      "  indicator_df = indicator_df.append(\n",
      "/mnt/FinRL/finrl/meta/preprocessor/preprocessors.py:158: FutureWarning: The frame.append method is deprecated and will be removed from pandas in a future version. Use pandas.concat instead.\n",
      "  indicator_df = indicator_df.append(\n",
      "/mnt/FinRL/finrl/meta/preprocessor/preprocessors.py:158: FutureWarning: The frame.append method is deprecated and will be removed from pandas in a future version. Use pandas.concat instead.\n",
      "  indicator_df = indicator_df.append(\n",
      "/mnt/FinRL/finrl/meta/preprocessor/preprocessors.py:158: FutureWarning: The frame.append method is deprecated and will be removed from pandas in a future version. Use pandas.concat instead.\n",
      "  indicator_df = indicator_df.append(\n",
      "/mnt/FinRL/finrl/meta/preprocessor/preprocessors.py:158: FutureWarning: The frame.append method is deprecated and will be removed from pandas in a future version. Use pandas.concat instead.\n",
      "  indicator_df = indicator_df.append(\n"
     ]
    },
    {
     "name": "stderr",
     "output_type": "stream",
     "text": [
      "/mnt/FinRL/finrl/meta/preprocessor/preprocessors.py:158: FutureWarning: The frame.append method is deprecated and will be removed from pandas in a future version. Use pandas.concat instead.\n",
      "  indicator_df = indicator_df.append(\n",
      "/mnt/FinRL/finrl/meta/preprocessor/preprocessors.py:158: FutureWarning: The frame.append method is deprecated and will be removed from pandas in a future version. Use pandas.concat instead.\n",
      "  indicator_df = indicator_df.append(\n",
      "/mnt/FinRL/finrl/meta/preprocessor/preprocessors.py:158: FutureWarning: The frame.append method is deprecated and will be removed from pandas in a future version. Use pandas.concat instead.\n",
      "  indicator_df = indicator_df.append(\n",
      "/mnt/FinRL/finrl/meta/preprocessor/preprocessors.py:158: FutureWarning: The frame.append method is deprecated and will be removed from pandas in a future version. Use pandas.concat instead.\n",
      "  indicator_df = indicator_df.append(\n",
      "/mnt/FinRL/finrl/meta/preprocessor/preprocessors.py:158: FutureWarning: The frame.append method is deprecated and will be removed from pandas in a future version. Use pandas.concat instead.\n",
      "  indicator_df = indicator_df.append(\n",
      "/mnt/FinRL/finrl/meta/preprocessor/preprocessors.py:158: FutureWarning: The frame.append method is deprecated and will be removed from pandas in a future version. Use pandas.concat instead.\n",
      "  indicator_df = indicator_df.append(\n",
      "/mnt/FinRL/finrl/meta/preprocessor/preprocessors.py:158: FutureWarning: The frame.append method is deprecated and will be removed from pandas in a future version. Use pandas.concat instead.\n",
      "  indicator_df = indicator_df.append(\n",
      "/mnt/FinRL/finrl/meta/preprocessor/preprocessors.py:158: FutureWarning: The frame.append method is deprecated and will be removed from pandas in a future version. Use pandas.concat instead.\n",
      "  indicator_df = indicator_df.append(\n",
      "/mnt/FinRL/finrl/meta/preprocessor/preprocessors.py:158: FutureWarning: The frame.append method is deprecated and will be removed from pandas in a future version. Use pandas.concat instead.\n",
      "  indicator_df = indicator_df.append(\n",
      "/mnt/FinRL/finrl/meta/preprocessor/preprocessors.py:158: FutureWarning: The frame.append method is deprecated and will be removed from pandas in a future version. Use pandas.concat instead.\n",
      "  indicator_df = indicator_df.append(\n",
      "/mnt/FinRL/finrl/meta/preprocessor/preprocessors.py:158: FutureWarning: The frame.append method is deprecated and will be removed from pandas in a future version. Use pandas.concat instead.\n",
      "  indicator_df = indicator_df.append(\n",
      "/mnt/FinRL/finrl/meta/preprocessor/preprocessors.py:158: FutureWarning: The frame.append method is deprecated and will be removed from pandas in a future version. Use pandas.concat instead.\n",
      "  indicator_df = indicator_df.append(\n",
      "/mnt/FinRL/finrl/meta/preprocessor/preprocessors.py:158: FutureWarning: The frame.append method is deprecated and will be removed from pandas in a future version. Use pandas.concat instead.\n",
      "  indicator_df = indicator_df.append(\n",
      "/mnt/FinRL/finrl/meta/preprocessor/preprocessors.py:158: FutureWarning: The frame.append method is deprecated and will be removed from pandas in a future version. Use pandas.concat instead.\n",
      "  indicator_df = indicator_df.append(\n",
      "/mnt/FinRL/finrl/meta/preprocessor/preprocessors.py:158: FutureWarning: The frame.append method is deprecated and will be removed from pandas in a future version. Use pandas.concat instead.\n",
      "  indicator_df = indicator_df.append(\n",
      "/mnt/FinRL/finrl/meta/preprocessor/preprocessors.py:158: FutureWarning: The frame.append method is deprecated and will be removed from pandas in a future version. Use pandas.concat instead.\n",
      "  indicator_df = indicator_df.append(\n",
      "/mnt/FinRL/finrl/meta/preprocessor/preprocessors.py:158: FutureWarning: The frame.append method is deprecated and will be removed from pandas in a future version. Use pandas.concat instead.\n",
      "  indicator_df = indicator_df.append(\n",
      "/mnt/FinRL/finrl/meta/preprocessor/preprocessors.py:158: FutureWarning: The frame.append method is deprecated and will be removed from pandas in a future version. Use pandas.concat instead.\n",
      "  indicator_df = indicator_df.append(\n",
      "/mnt/FinRL/finrl/meta/preprocessor/preprocessors.py:158: FutureWarning: The frame.append method is deprecated and will be removed from pandas in a future version. Use pandas.concat instead.\n",
      "  indicator_df = indicator_df.append(\n",
      "/mnt/FinRL/finrl/meta/preprocessor/preprocessors.py:158: FutureWarning: The frame.append method is deprecated and will be removed from pandas in a future version. Use pandas.concat instead.\n",
      "  indicator_df = indicator_df.append(\n",
      "/mnt/FinRL/finrl/meta/preprocessor/preprocessors.py:158: FutureWarning: The frame.append method is deprecated and will be removed from pandas in a future version. Use pandas.concat instead.\n",
      "  indicator_df = indicator_df.append(\n",
      "/mnt/FinRL/finrl/meta/preprocessor/preprocessors.py:158: FutureWarning: The frame.append method is deprecated and will be removed from pandas in a future version. Use pandas.concat instead.\n",
      "  indicator_df = indicator_df.append(\n",
      "/mnt/FinRL/finrl/meta/preprocessor/preprocessors.py:158: FutureWarning: The frame.append method is deprecated and will be removed from pandas in a future version. Use pandas.concat instead.\n",
      "  indicator_df = indicator_df.append(\n",
      "/mnt/FinRL/finrl/meta/preprocessor/preprocessors.py:158: FutureWarning: The frame.append method is deprecated and will be removed from pandas in a future version. Use pandas.concat instead.\n",
      "  indicator_df = indicator_df.append(\n",
      "/mnt/FinRL/finrl/meta/preprocessor/preprocessors.py:158: FutureWarning: The frame.append method is deprecated and will be removed from pandas in a future version. Use pandas.concat instead.\n",
      "  indicator_df = indicator_df.append(\n",
      "/mnt/FinRL/finrl/meta/preprocessor/preprocessors.py:158: FutureWarning: The frame.append method is deprecated and will be removed from pandas in a future version. Use pandas.concat instead.\n",
      "  indicator_df = indicator_df.append(\n",
      "/mnt/FinRL/finrl/meta/preprocessor/preprocessors.py:158: FutureWarning: The frame.append method is deprecated and will be removed from pandas in a future version. Use pandas.concat instead.\n",
      "  indicator_df = indicator_df.append(\n",
      "/mnt/FinRL/finrl/meta/preprocessor/preprocessors.py:158: FutureWarning: The frame.append method is deprecated and will be removed from pandas in a future version. Use pandas.concat instead.\n",
      "  indicator_df = indicator_df.append(\n",
      "/mnt/FinRL/finrl/meta/preprocessor/preprocessors.py:158: FutureWarning: The frame.append method is deprecated and will be removed from pandas in a future version. Use pandas.concat instead.\n",
      "  indicator_df = indicator_df.append(\n",
      "/mnt/FinRL/finrl/meta/preprocessor/preprocessors.py:158: FutureWarning: The frame.append method is deprecated and will be removed from pandas in a future version. Use pandas.concat instead.\n",
      "  indicator_df = indicator_df.append(\n",
      "/mnt/FinRL/finrl/meta/preprocessor/preprocessors.py:158: FutureWarning: The frame.append method is deprecated and will be removed from pandas in a future version. Use pandas.concat instead.\n",
      "  indicator_df = indicator_df.append(\n",
      "/mnt/FinRL/finrl/meta/preprocessor/preprocessors.py:158: FutureWarning: The frame.append method is deprecated and will be removed from pandas in a future version. Use pandas.concat instead.\n",
      "  indicator_df = indicator_df.append(\n",
      "/mnt/FinRL/finrl/meta/preprocessor/preprocessors.py:158: FutureWarning: The frame.append method is deprecated and will be removed from pandas in a future version. Use pandas.concat instead.\n",
      "  indicator_df = indicator_df.append(\n",
      "/mnt/FinRL/finrl/meta/preprocessor/preprocessors.py:158: FutureWarning: The frame.append method is deprecated and will be removed from pandas in a future version. Use pandas.concat instead.\n",
      "  indicator_df = indicator_df.append(\n",
      "/mnt/FinRL/finrl/meta/preprocessor/preprocessors.py:158: FutureWarning: The frame.append method is deprecated and will be removed from pandas in a future version. Use pandas.concat instead.\n",
      "  indicator_df = indicator_df.append(\n",
      "/mnt/FinRL/finrl/meta/preprocessor/preprocessors.py:158: FutureWarning: The frame.append method is deprecated and will be removed from pandas in a future version. Use pandas.concat instead.\n",
      "  indicator_df = indicator_df.append(\n"
     ]
    },
    {
     "name": "stderr",
     "output_type": "stream",
     "text": [
      "/mnt/FinRL/finrl/meta/preprocessor/preprocessors.py:158: FutureWarning: The frame.append method is deprecated and will be removed from pandas in a future version. Use pandas.concat instead.\n",
      "  indicator_df = indicator_df.append(\n",
      "/mnt/FinRL/finrl/meta/preprocessor/preprocessors.py:158: FutureWarning: The frame.append method is deprecated and will be removed from pandas in a future version. Use pandas.concat instead.\n",
      "  indicator_df = indicator_df.append(\n",
      "/mnt/FinRL/finrl/meta/preprocessor/preprocessors.py:158: FutureWarning: The frame.append method is deprecated and will be removed from pandas in a future version. Use pandas.concat instead.\n",
      "  indicator_df = indicator_df.append(\n",
      "/mnt/FinRL/finrl/meta/preprocessor/preprocessors.py:158: FutureWarning: The frame.append method is deprecated and will be removed from pandas in a future version. Use pandas.concat instead.\n",
      "  indicator_df = indicator_df.append(\n",
      "/mnt/FinRL/finrl/meta/preprocessor/preprocessors.py:158: FutureWarning: The frame.append method is deprecated and will be removed from pandas in a future version. Use pandas.concat instead.\n",
      "  indicator_df = indicator_df.append(\n",
      "/mnt/FinRL/finrl/meta/preprocessor/preprocessors.py:158: FutureWarning: The frame.append method is deprecated and will be removed from pandas in a future version. Use pandas.concat instead.\n",
      "  indicator_df = indicator_df.append(\n",
      "/mnt/FinRL/finrl/meta/preprocessor/preprocessors.py:158: FutureWarning: The frame.append method is deprecated and will be removed from pandas in a future version. Use pandas.concat instead.\n",
      "  indicator_df = indicator_df.append(\n",
      "/mnt/FinRL/finrl/meta/preprocessor/preprocessors.py:158: FutureWarning: The frame.append method is deprecated and will be removed from pandas in a future version. Use pandas.concat instead.\n",
      "  indicator_df = indicator_df.append(\n",
      "/mnt/FinRL/finrl/meta/preprocessor/preprocessors.py:158: FutureWarning: The frame.append method is deprecated and will be removed from pandas in a future version. Use pandas.concat instead.\n",
      "  indicator_df = indicator_df.append(\n",
      "/mnt/FinRL/finrl/meta/preprocessor/preprocessors.py:158: FutureWarning: The frame.append method is deprecated and will be removed from pandas in a future version. Use pandas.concat instead.\n",
      "  indicator_df = indicator_df.append(\n",
      "/mnt/FinRL/finrl/meta/preprocessor/preprocessors.py:158: FutureWarning: The frame.append method is deprecated and will be removed from pandas in a future version. Use pandas.concat instead.\n",
      "  indicator_df = indicator_df.append(\n",
      "/mnt/FinRL/finrl/meta/preprocessor/preprocessors.py:158: FutureWarning: The frame.append method is deprecated and will be removed from pandas in a future version. Use pandas.concat instead.\n",
      "  indicator_df = indicator_df.append(\n",
      "/mnt/FinRL/finrl/meta/preprocessor/preprocessors.py:158: FutureWarning: The frame.append method is deprecated and will be removed from pandas in a future version. Use pandas.concat instead.\n",
      "  indicator_df = indicator_df.append(\n",
      "/mnt/FinRL/finrl/meta/preprocessor/preprocessors.py:158: FutureWarning: The frame.append method is deprecated and will be removed from pandas in a future version. Use pandas.concat instead.\n",
      "  indicator_df = indicator_df.append(\n",
      "/mnt/FinRL/finrl/meta/preprocessor/preprocessors.py:158: FutureWarning: The frame.append method is deprecated and will be removed from pandas in a future version. Use pandas.concat instead.\n",
      "  indicator_df = indicator_df.append(\n",
      "/mnt/FinRL/finrl/meta/preprocessor/preprocessors.py:158: FutureWarning: The frame.append method is deprecated and will be removed from pandas in a future version. Use pandas.concat instead.\n",
      "  indicator_df = indicator_df.append(\n",
      "/mnt/FinRL/finrl/meta/preprocessor/preprocessors.py:158: FutureWarning: The frame.append method is deprecated and will be removed from pandas in a future version. Use pandas.concat instead.\n",
      "  indicator_df = indicator_df.append(\n",
      "/mnt/FinRL/finrl/meta/preprocessor/preprocessors.py:158: FutureWarning: The frame.append method is deprecated and will be removed from pandas in a future version. Use pandas.concat instead.\n",
      "  indicator_df = indicator_df.append(\n",
      "/mnt/FinRL/finrl/meta/preprocessor/preprocessors.py:158: FutureWarning: The frame.append method is deprecated and will be removed from pandas in a future version. Use pandas.concat instead.\n",
      "  indicator_df = indicator_df.append(\n",
      "/mnt/FinRL/finrl/meta/preprocessor/preprocessors.py:158: FutureWarning: The frame.append method is deprecated and will be removed from pandas in a future version. Use pandas.concat instead.\n",
      "  indicator_df = indicator_df.append(\n",
      "/mnt/FinRL/finrl/meta/preprocessor/preprocessors.py:158: FutureWarning: The frame.append method is deprecated and will be removed from pandas in a future version. Use pandas.concat instead.\n",
      "  indicator_df = indicator_df.append(\n",
      "/mnt/FinRL/finrl/meta/preprocessor/preprocessors.py:158: FutureWarning: The frame.append method is deprecated and will be removed from pandas in a future version. Use pandas.concat instead.\n",
      "  indicator_df = indicator_df.append(\n",
      "/mnt/FinRL/finrl/meta/preprocessor/preprocessors.py:158: FutureWarning: The frame.append method is deprecated and will be removed from pandas in a future version. Use pandas.concat instead.\n",
      "  indicator_df = indicator_df.append(\n",
      "/mnt/FinRL/finrl/meta/preprocessor/preprocessors.py:158: FutureWarning: The frame.append method is deprecated and will be removed from pandas in a future version. Use pandas.concat instead.\n",
      "  indicator_df = indicator_df.append(\n",
      "/mnt/FinRL/finrl/meta/preprocessor/preprocessors.py:158: FutureWarning: The frame.append method is deprecated and will be removed from pandas in a future version. Use pandas.concat instead.\n",
      "  indicator_df = indicator_df.append(\n",
      "/mnt/FinRL/finrl/meta/preprocessor/preprocessors.py:158: FutureWarning: The frame.append method is deprecated and will be removed from pandas in a future version. Use pandas.concat instead.\n",
      "  indicator_df = indicator_df.append(\n",
      "/mnt/FinRL/finrl/meta/preprocessor/preprocessors.py:158: FutureWarning: The frame.append method is deprecated and will be removed from pandas in a future version. Use pandas.concat instead.\n",
      "  indicator_df = indicator_df.append(\n",
      "/mnt/FinRL/finrl/meta/preprocessor/preprocessors.py:158: FutureWarning: The frame.append method is deprecated and will be removed from pandas in a future version. Use pandas.concat instead.\n",
      "  indicator_df = indicator_df.append(\n",
      "/mnt/FinRL/finrl/meta/preprocessor/preprocessors.py:158: FutureWarning: The frame.append method is deprecated and will be removed from pandas in a future version. Use pandas.concat instead.\n",
      "  indicator_df = indicator_df.append(\n",
      "/mnt/FinRL/finrl/meta/preprocessor/preprocessors.py:158: FutureWarning: The frame.append method is deprecated and will be removed from pandas in a future version. Use pandas.concat instead.\n",
      "  indicator_df = indicator_df.append(\n",
      "/mnt/FinRL/finrl/meta/preprocessor/preprocessors.py:158: FutureWarning: The frame.append method is deprecated and will be removed from pandas in a future version. Use pandas.concat instead.\n",
      "  indicator_df = indicator_df.append(\n",
      "/mnt/FinRL/finrl/meta/preprocessor/preprocessors.py:158: FutureWarning: The frame.append method is deprecated and will be removed from pandas in a future version. Use pandas.concat instead.\n",
      "  indicator_df = indicator_df.append(\n",
      "/mnt/FinRL/finrl/meta/preprocessor/preprocessors.py:158: FutureWarning: The frame.append method is deprecated and will be removed from pandas in a future version. Use pandas.concat instead.\n",
      "  indicator_df = indicator_df.append(\n",
      "/mnt/FinRL/finrl/meta/preprocessor/preprocessors.py:158: FutureWarning: The frame.append method is deprecated and will be removed from pandas in a future version. Use pandas.concat instead.\n",
      "  indicator_df = indicator_df.append(\n",
      "/mnt/FinRL/finrl/meta/preprocessor/preprocessors.py:158: FutureWarning: The frame.append method is deprecated and will be removed from pandas in a future version. Use pandas.concat instead.\n",
      "  indicator_df = indicator_df.append(\n",
      "/mnt/FinRL/finrl/meta/preprocessor/preprocessors.py:158: FutureWarning: The frame.append method is deprecated and will be removed from pandas in a future version. Use pandas.concat instead.\n",
      "  indicator_df = indicator_df.append(\n",
      "/mnt/FinRL/finrl/meta/preprocessor/preprocessors.py:158: FutureWarning: The frame.append method is deprecated and will be removed from pandas in a future version. Use pandas.concat instead.\n",
      "  indicator_df = indicator_df.append(\n",
      "/mnt/FinRL/finrl/meta/preprocessor/preprocessors.py:158: FutureWarning: The frame.append method is deprecated and will be removed from pandas in a future version. Use pandas.concat instead.\n",
      "  indicator_df = indicator_df.append(\n",
      "/mnt/FinRL/finrl/meta/preprocessor/preprocessors.py:158: FutureWarning: The frame.append method is deprecated and will be removed from pandas in a future version. Use pandas.concat instead.\n",
      "  indicator_df = indicator_df.append(\n",
      "/mnt/FinRL/finrl/meta/preprocessor/preprocessors.py:158: FutureWarning: The frame.append method is deprecated and will be removed from pandas in a future version. Use pandas.concat instead.\n",
      "  indicator_df = indicator_df.append(\n"
     ]
    },
    {
     "name": "stderr",
     "output_type": "stream",
     "text": [
      "/mnt/FinRL/finrl/meta/preprocessor/preprocessors.py:158: FutureWarning: The frame.append method is deprecated and will be removed from pandas in a future version. Use pandas.concat instead.\n",
      "  indicator_df = indicator_df.append(\n",
      "/mnt/FinRL/finrl/meta/preprocessor/preprocessors.py:158: FutureWarning: The frame.append method is deprecated and will be removed from pandas in a future version. Use pandas.concat instead.\n",
      "  indicator_df = indicator_df.append(\n",
      "/mnt/FinRL/finrl/meta/preprocessor/preprocessors.py:158: FutureWarning: The frame.append method is deprecated and will be removed from pandas in a future version. Use pandas.concat instead.\n",
      "  indicator_df = indicator_df.append(\n",
      "/mnt/FinRL/finrl/meta/preprocessor/preprocessors.py:158: FutureWarning: The frame.append method is deprecated and will be removed from pandas in a future version. Use pandas.concat instead.\n",
      "  indicator_df = indicator_df.append(\n",
      "/mnt/FinRL/finrl/meta/preprocessor/preprocessors.py:158: FutureWarning: The frame.append method is deprecated and will be removed from pandas in a future version. Use pandas.concat instead.\n",
      "  indicator_df = indicator_df.append(\n",
      "/mnt/FinRL/finrl/meta/preprocessor/preprocessors.py:158: FutureWarning: The frame.append method is deprecated and will be removed from pandas in a future version. Use pandas.concat instead.\n",
      "  indicator_df = indicator_df.append(\n",
      "/mnt/FinRL/finrl/meta/preprocessor/preprocessors.py:158: FutureWarning: The frame.append method is deprecated and will be removed from pandas in a future version. Use pandas.concat instead.\n",
      "  indicator_df = indicator_df.append(\n",
      "/mnt/FinRL/finrl/meta/preprocessor/preprocessors.py:158: FutureWarning: The frame.append method is deprecated and will be removed from pandas in a future version. Use pandas.concat instead.\n",
      "  indicator_df = indicator_df.append(\n",
      "/mnt/FinRL/finrl/meta/preprocessor/preprocessors.py:158: FutureWarning: The frame.append method is deprecated and will be removed from pandas in a future version. Use pandas.concat instead.\n",
      "  indicator_df = indicator_df.append(\n",
      "/mnt/FinRL/finrl/meta/preprocessor/preprocessors.py:158: FutureWarning: The frame.append method is deprecated and will be removed from pandas in a future version. Use pandas.concat instead.\n",
      "  indicator_df = indicator_df.append(\n",
      "/mnt/FinRL/finrl/meta/preprocessor/preprocessors.py:158: FutureWarning: The frame.append method is deprecated and will be removed from pandas in a future version. Use pandas.concat instead.\n",
      "  indicator_df = indicator_df.append(\n",
      "/mnt/FinRL/finrl/meta/preprocessor/preprocessors.py:158: FutureWarning: The frame.append method is deprecated and will be removed from pandas in a future version. Use pandas.concat instead.\n",
      "  indicator_df = indicator_df.append(\n",
      "/mnt/FinRL/finrl/meta/preprocessor/preprocessors.py:158: FutureWarning: The frame.append method is deprecated and will be removed from pandas in a future version. Use pandas.concat instead.\n",
      "  indicator_df = indicator_df.append(\n",
      "/mnt/FinRL/finrl/meta/preprocessor/preprocessors.py:158: FutureWarning: The frame.append method is deprecated and will be removed from pandas in a future version. Use pandas.concat instead.\n",
      "  indicator_df = indicator_df.append(\n",
      "/mnt/FinRL/finrl/meta/preprocessor/preprocessors.py:158: FutureWarning: The frame.append method is deprecated and will be removed from pandas in a future version. Use pandas.concat instead.\n",
      "  indicator_df = indicator_df.append(\n",
      "/mnt/FinRL/finrl/meta/preprocessor/preprocessors.py:158: FutureWarning: The frame.append method is deprecated and will be removed from pandas in a future version. Use pandas.concat instead.\n",
      "  indicator_df = indicator_df.append(\n",
      "/mnt/FinRL/finrl/meta/preprocessor/preprocessors.py:158: FutureWarning: The frame.append method is deprecated and will be removed from pandas in a future version. Use pandas.concat instead.\n",
      "  indicator_df = indicator_df.append(\n",
      "/mnt/FinRL/finrl/meta/preprocessor/preprocessors.py:158: FutureWarning: The frame.append method is deprecated and will be removed from pandas in a future version. Use pandas.concat instead.\n",
      "  indicator_df = indicator_df.append(\n",
      "/mnt/FinRL/finrl/meta/preprocessor/preprocessors.py:158: FutureWarning: The frame.append method is deprecated and will be removed from pandas in a future version. Use pandas.concat instead.\n",
      "  indicator_df = indicator_df.append(\n",
      "/mnt/FinRL/finrl/meta/preprocessor/preprocessors.py:158: FutureWarning: The frame.append method is deprecated and will be removed from pandas in a future version. Use pandas.concat instead.\n",
      "  indicator_df = indicator_df.append(\n",
      "/mnt/FinRL/finrl/meta/preprocessor/preprocessors.py:158: FutureWarning: The frame.append method is deprecated and will be removed from pandas in a future version. Use pandas.concat instead.\n",
      "  indicator_df = indicator_df.append(\n",
      "/mnt/FinRL/finrl/meta/preprocessor/preprocessors.py:158: FutureWarning: The frame.append method is deprecated and will be removed from pandas in a future version. Use pandas.concat instead.\n",
      "  indicator_df = indicator_df.append(\n",
      "/mnt/FinRL/finrl/meta/preprocessor/preprocessors.py:158: FutureWarning: The frame.append method is deprecated and will be removed from pandas in a future version. Use pandas.concat instead.\n",
      "  indicator_df = indicator_df.append(\n",
      "/mnt/FinRL/finrl/meta/preprocessor/preprocessors.py:158: FutureWarning: The frame.append method is deprecated and will be removed from pandas in a future version. Use pandas.concat instead.\n",
      "  indicator_df = indicator_df.append(\n",
      "/mnt/FinRL/finrl/meta/preprocessor/preprocessors.py:158: FutureWarning: The frame.append method is deprecated and will be removed from pandas in a future version. Use pandas.concat instead.\n",
      "  indicator_df = indicator_df.append(\n",
      "/mnt/FinRL/finrl/meta/preprocessor/preprocessors.py:158: FutureWarning: The frame.append method is deprecated and will be removed from pandas in a future version. Use pandas.concat instead.\n",
      "  indicator_df = indicator_df.append(\n",
      "/mnt/FinRL/finrl/meta/preprocessor/preprocessors.py:158: FutureWarning: The frame.append method is deprecated and will be removed from pandas in a future version. Use pandas.concat instead.\n",
      "  indicator_df = indicator_df.append(\n",
      "/mnt/FinRL/finrl/meta/preprocessor/preprocessors.py:158: FutureWarning: The frame.append method is deprecated and will be removed from pandas in a future version. Use pandas.concat instead.\n",
      "  indicator_df = indicator_df.append(\n",
      "/mnt/FinRL/finrl/meta/preprocessor/preprocessors.py:158: FutureWarning: The frame.append method is deprecated and will be removed from pandas in a future version. Use pandas.concat instead.\n",
      "  indicator_df = indicator_df.append(\n",
      "/mnt/FinRL/finrl/meta/preprocessor/preprocessors.py:158: FutureWarning: The frame.append method is deprecated and will be removed from pandas in a future version. Use pandas.concat instead.\n",
      "  indicator_df = indicator_df.append(\n",
      "/mnt/FinRL/finrl/meta/preprocessor/preprocessors.py:158: FutureWarning: The frame.append method is deprecated and will be removed from pandas in a future version. Use pandas.concat instead.\n",
      "  indicator_df = indicator_df.append(\n",
      "/mnt/FinRL/finrl/meta/preprocessor/preprocessors.py:158: FutureWarning: The frame.append method is deprecated and will be removed from pandas in a future version. Use pandas.concat instead.\n",
      "  indicator_df = indicator_df.append(\n",
      "/mnt/FinRL/finrl/meta/preprocessor/preprocessors.py:158: FutureWarning: The frame.append method is deprecated and will be removed from pandas in a future version. Use pandas.concat instead.\n",
      "  indicator_df = indicator_df.append(\n",
      "/mnt/FinRL/finrl/meta/preprocessor/preprocessors.py:158: FutureWarning: The frame.append method is deprecated and will be removed from pandas in a future version. Use pandas.concat instead.\n",
      "  indicator_df = indicator_df.append(\n",
      "/mnt/FinRL/finrl/meta/preprocessor/preprocessors.py:158: FutureWarning: The frame.append method is deprecated and will be removed from pandas in a future version. Use pandas.concat instead.\n",
      "  indicator_df = indicator_df.append(\n"
     ]
    },
    {
     "name": "stdout",
     "output_type": "stream",
     "text": [
      "Successfully added technical indicators\n",
      "Successfully added turbulence index\n"
     ]
    }
   ],
   "source": [
    "fe = FeatureEngineer(use_technical_indicator=True,\n",
    "                     tech_indicator_list = INDICATORS,\n",
    "                     use_turbulence=True,\n",
    "                     user_defined_feature = False)\n",
    "\n",
    "processed = fe.preprocess_data(df)\n",
    "processed = processed.copy()\n",
    "processed = processed.fillna(0)\n",
    "processed = processed.replace(np.inf,0)"
   ]
  },
  {
   "cell_type": "code",
   "execution_count": 7,
   "metadata": {},
   "outputs": [
    {
     "data": {
      "text/html": [
       "<div>\n",
       "<style scoped>\n",
       "    .dataframe tbody tr th:only-of-type {\n",
       "        vertical-align: middle;\n",
       "    }\n",
       "\n",
       "    .dataframe tbody tr th {\n",
       "        vertical-align: top;\n",
       "    }\n",
       "\n",
       "    .dataframe thead th {\n",
       "        text-align: right;\n",
       "    }\n",
       "</style>\n",
       "<table border=\"1\" class=\"dataframe\">\n",
       "  <thead>\n",
       "    <tr style=\"text-align: right;\">\n",
       "      <th></th>\n",
       "      <th>date</th>\n",
       "      <th>open</th>\n",
       "      <th>high</th>\n",
       "      <th>low</th>\n",
       "      <th>close</th>\n",
       "      <th>volume</th>\n",
       "      <th>tic</th>\n",
       "      <th>day</th>\n",
       "      <th>macd</th>\n",
       "      <th>boll_ub</th>\n",
       "      <th>boll_lb</th>\n",
       "      <th>rsi_30</th>\n",
       "      <th>cci_30</th>\n",
       "      <th>dx_30</th>\n",
       "      <th>close_30_sma</th>\n",
       "      <th>close_60_sma</th>\n",
       "      <th>turbulence</th>\n",
       "    </tr>\n",
       "  </thead>\n",
       "  <tbody>\n",
       "    <tr>\n",
       "      <th>126023</th>\n",
       "      <td>2023-02-15</td>\n",
       "      <td>184.210007</td>\n",
       "      <td>185.289993</td>\n",
       "      <td>183.434998</td>\n",
       "      <td>185.220001</td>\n",
       "      <td>713947</td>\n",
       "      <td>TRV</td>\n",
       "      <td>2</td>\n",
       "      <td>-0.583158</td>\n",
       "      <td>193.203075</td>\n",
       "      <td>180.877925</td>\n",
       "      <td>50.013625</td>\n",
       "      <td>-77.906615</td>\n",
       "      <td>14.645254</td>\n",
       "      <td>187.865667</td>\n",
       "      <td>187.374053</td>\n",
       "      <td>19.507683</td>\n",
       "    </tr>\n",
       "    <tr>\n",
       "      <th>126024</th>\n",
       "      <td>2023-02-15</td>\n",
       "      <td>489.649994</td>\n",
       "      <td>491.829987</td>\n",
       "      <td>488.390015</td>\n",
       "      <td>491.250000</td>\n",
       "      <td>2241003</td>\n",
       "      <td>UNH</td>\n",
       "      <td>2</td>\n",
       "      <td>-3.312835</td>\n",
       "      <td>503.226684</td>\n",
       "      <td>470.683313</td>\n",
       "      <td>46.303598</td>\n",
       "      <td>23.949615</td>\n",
       "      <td>22.118049</td>\n",
       "      <td>487.985999</td>\n",
       "      <td>509.844873</td>\n",
       "      <td>19.507683</td>\n",
       "    </tr>\n",
       "    <tr>\n",
       "      <th>126025</th>\n",
       "      <td>2023-02-15</td>\n",
       "      <td>40.230000</td>\n",
       "      <td>40.400002</td>\n",
       "      <td>40.095001</td>\n",
       "      <td>40.380001</td>\n",
       "      <td>11245905</td>\n",
       "      <td>VZ</td>\n",
       "      <td>2</td>\n",
       "      <td>0.145262</td>\n",
       "      <td>41.917629</td>\n",
       "      <td>39.302371</td>\n",
       "      <td>53.003586</td>\n",
       "      <td>-50.499119</td>\n",
       "      <td>32.640503</td>\n",
       "      <td>40.809166</td>\n",
       "      <td>39.201085</td>\n",
       "      <td>19.507683</td>\n",
       "    </tr>\n",
       "    <tr>\n",
       "      <th>126026</th>\n",
       "      <td>2023-02-15</td>\n",
       "      <td>36.200001</td>\n",
       "      <td>36.529999</td>\n",
       "      <td>35.834999</td>\n",
       "      <td>36.520000</td>\n",
       "      <td>5756967</td>\n",
       "      <td>WBA</td>\n",
       "      <td>2</td>\n",
       "      <td>-0.181990</td>\n",
       "      <td>37.677580</td>\n",
       "      <td>35.472420</td>\n",
       "      <td>47.701204</td>\n",
       "      <td>-33.274433</td>\n",
       "      <td>17.841687</td>\n",
       "      <td>36.544667</td>\n",
       "      <td>38.259667</td>\n",
       "      <td>19.507683</td>\n",
       "    </tr>\n",
       "    <tr>\n",
       "      <th>126027</th>\n",
       "      <td>2023-02-15</td>\n",
       "      <td>144.960007</td>\n",
       "      <td>146.589996</td>\n",
       "      <td>144.559998</td>\n",
       "      <td>146.570007</td>\n",
       "      <td>4879360</td>\n",
       "      <td>WMT</td>\n",
       "      <td>2</td>\n",
       "      <td>0.268853</td>\n",
       "      <td>146.713796</td>\n",
       "      <td>138.685204</td>\n",
       "      <td>54.643905</td>\n",
       "      <td>94.766146</td>\n",
       "      <td>41.555541</td>\n",
       "      <td>143.303000</td>\n",
       "      <td>145.377896</td>\n",
       "      <td>19.507683</td>\n",
       "    </tr>\n",
       "  </tbody>\n",
       "</table>\n",
       "</div>"
      ],
      "text/plain": [
       "              date        open        high         low       close    volume  \\\n",
       "126023  2023-02-15  184.210007  185.289993  183.434998  185.220001    713947   \n",
       "126024  2023-02-15  489.649994  491.829987  488.390015  491.250000   2241003   \n",
       "126025  2023-02-15   40.230000   40.400002   40.095001   40.380001  11245905   \n",
       "126026  2023-02-15   36.200001   36.529999   35.834999   36.520000   5756967   \n",
       "126027  2023-02-15  144.960007  146.589996  144.559998  146.570007   4879360   \n",
       "\n",
       "        tic  day      macd     boll_ub     boll_lb     rsi_30     cci_30  \\\n",
       "126023  TRV    2 -0.583158  193.203075  180.877925  50.013625 -77.906615   \n",
       "126024  UNH    2 -3.312835  503.226684  470.683313  46.303598  23.949615   \n",
       "126025   VZ    2  0.145262   41.917629   39.302371  53.003586 -50.499119   \n",
       "126026  WBA    2 -0.181990   37.677580   35.472420  47.701204 -33.274433   \n",
       "126027  WMT    2  0.268853  146.713796  138.685204  54.643905  94.766146   \n",
       "\n",
       "            dx_30  close_30_sma  close_60_sma  turbulence  \n",
       "126023  14.645254    187.865667    187.374053   19.507683  \n",
       "126024  22.118049    487.985999    509.844873   19.507683  \n",
       "126025  32.640503     40.809166     39.201085   19.507683  \n",
       "126026  17.841687     36.544667     38.259667   19.507683  \n",
       "126027  41.555541    143.303000    145.377896   19.507683  "
      ]
     },
     "execution_count": 7,
     "metadata": {},
     "output_type": "execute_result"
    }
   ],
   "source": [
    "processed.tail()"
   ]
  },
  {
   "cell_type": "code",
   "execution_count": 8,
   "metadata": {},
   "outputs": [
    {
     "data": {
      "text/plain": [
       "(126028, 17)"
      ]
     },
     "execution_count": 8,
     "metadata": {},
     "output_type": "execute_result"
    }
   ],
   "source": [
    "processed.shape"
   ]
  },
  {
   "cell_type": "code",
   "execution_count": 9,
   "metadata": {},
   "outputs": [
    {
     "name": "stdout",
     "output_type": "stream",
     "text": [
      "Stock Dimension: 28, State Space: 281\n"
     ]
    }
   ],
   "source": [
    "stock_dimension = len(processed.tic.unique())\n",
    "state_space = 1 + 2*stock_dimension + len(INDICATORS)*stock_dimension\n",
    "print(f\"Stock Dimension: {stock_dimension}, State Space: {state_space}\")"
   ]
  },
  {
   "cell_type": "code",
   "execution_count": 10,
   "metadata": {},
   "outputs": [],
   "source": [
    "env_kwargs = {\n",
    "    \"hmax\": 100, \n",
    "    \"initial_amount\": 200, \n",
    "    \"buy_cost_pct\": 0.01, \n",
    "    \"sell_cost_pct\": 0.01, \n",
    "    \"state_space\": state_space, \n",
    "    \"stock_dim\": stock_dimension, \n",
    "    \"tech_indicator_list\": INDICATORS,\n",
    "    \"action_space\": stock_dimension, \n",
    "    \"reward_scaling\": 1e-4,\n",
    "    \"print_verbosity\":5\n",
    "    \n",
    "}"
   ]
  },
  {
   "cell_type": "code",
   "execution_count": 11,
   "metadata": {},
   "outputs": [],
   "source": [
    "rebalance_window = 63 # rebalance_window is the number of days to retrain the model\n",
    "validation_window = 63 # validation_window is the number of days to do validation and trading (e.g. if validation_window=63, then both validation and trading period will be 63 days)\n",
    "\n",
    "#ensemble_agent = DRLEnsembleAgent(df=processed,\n",
    "#                 train_period=(TRAIN_START_DATE,TRAIN_END_DATE),\n",
    "#                 val_test_period=(TEST_START_DATE,TEST_END_DATE),\n",
    "#                 rebalance_window=rebalance_window, \n",
    "#                 validation_window=validation_window, \n",
    "#                 **env_kwargs)"
   ]
  },
  {
   "cell_type": "code",
   "execution_count": 12,
   "metadata": {},
   "outputs": [],
   "source": [
    "A2C_model_kwargs = {\n",
    "                    'n_steps': 5,\n",
    "                    'ent_coef': 0.005,\n",
    "                    'learning_rate': 0.0007\n",
    "                    }\n",
    "\n",
    "PPO_model_kwargs = {\n",
    "                    \"ent_coef\":0.01,\n",
    "                    \"n_steps\": 2048,\n",
    "                    \"learning_rate\": 0.00025,\n",
    "                    \"batch_size\": 128\n",
    "                    }\n",
    "\n",
    "DDPG_model_kwargs = {\n",
    "                      #\"action_noise\":\"ornstein_uhlenbeck\",\n",
    "                      \"buffer_size\": 10_000,\n",
    "                      \"learning_rate\": 0.0005,\n",
    "                      \"batch_size\": 64\n",
    "                    }\n",
    "\n",
    "timesteps_dict = {'a2c' : 10_0000, \n",
    "                 'ppo' : 10_0000, \n",
    "                 'ddpg' : 10_0000\n",
    "                 }"
   ]
  },
  {
   "cell_type": "code",
   "execution_count": null,
   "metadata": {},
   "outputs": [],
   "source": [
    "#df_summary = ensemble_agent.run_ensemble_strategy(A2C_model_kwargs,\n",
    "#                                                 PPO_model_kwargs,\n",
    "#                                                 DDPG_model_kwargs,\n",
    "#                                                 timesteps_dict)"
   ]
  },
  {
   "cell_type": "code",
   "execution_count": null,
   "metadata": {},
   "outputs": [],
   "source": [
    "#df_summary\n"
   ]
  },
  {
   "cell_type": "code",
   "execution_count": null,
   "metadata": {},
   "outputs": [],
   "source": [
    "unique_trade_date = processed[(processed.date > TEST_START_DATE)&(processed.date <= TEST_END_DATE)].date.unique()"
   ]
  },
  {
   "cell_type": "code",
   "execution_count": null,
   "metadata": {},
   "outputs": [],
   "source": [
    "unique_trade_date\n"
   ]
  },
  {
   "cell_type": "code",
   "execution_count": null,
   "metadata": {},
   "outputs": [],
   "source": [
    "df_trade_date = pd.DataFrame({'datadate':unique_trade_date})\n",
    "\n",
    "df_account_value=pd.DataFrame()\n",
    "for i in range(rebalance_window+validation_window, len(unique_trade_date)+1,rebalance_window):\n",
    "    temp = pd.read_csv('results/account_value_trade_{}_{}.csv'.format('ensemble',i))\n",
    "    df_account_value = df_account_value.append(temp,ignore_index=True)\n",
    "sharpe=(252**0.5)*df_account_value.account_value.pct_change(1).mean()/df_account_value.account_value.pct_change(1).std()\n",
    "print('Sharpe Ratio: ',sharpe)\n",
    "df_account_value=df_account_value.join(df_trade_date[validation_window:].reset_index(drop=True))"
   ]
  },
  {
   "cell_type": "code",
   "execution_count": null,
   "metadata": {},
   "outputs": [],
   "source": [
    "df_account_value.head()"
   ]
  },
  {
   "cell_type": "code",
   "execution_count": null,
   "metadata": {},
   "outputs": [],
   "source": [
    "%matplotlib inline\n",
    "df_account_value.account_value.plot()"
   ]
  },
  {
   "cell_type": "code",
   "execution_count": null,
   "metadata": {},
   "outputs": [],
   "source": [
    "print(\"==============Get Backtest Results===========\")\n",
    "now = datetime.datetime.now().strftime('%Y%m%d-%Hh%M')\n",
    "\n",
    "perf_stats_all = backtest_stats(account_value=df_account_value)\n",
    "perf_stats_all = pd.DataFrame(perf_stats_all)"
   ]
  },
  {
   "cell_type": "code",
   "execution_count": null,
   "metadata": {},
   "outputs": [],
   "source": [
    "\n",
    "#baseline stats\n",
    "print(\"==============Get Baseline Stats===========\")\n",
    "baseline_df = get_baseline(\n",
    "        ticker=\"^DJI\", \n",
    "        start = df_account_value.loc[0,'date'],\n",
    "        end = df_account_value.loc[len(df_account_value)-1,'date'])\n",
    "\n",
    "stats = backtest_stats(baseline_df, value_col_name = 'close')"
   ]
  },
  {
   "cell_type": "code",
   "execution_count": null,
   "metadata": {},
   "outputs": [],
   "source": [
    "print(\"==============Compare to DJIA===========\")\n",
    "%matplotlib inline\n",
    "# S&P 500: ^GSPC\n",
    "# Dow Jones Index: ^DJI\n",
    "# NASDAQ 100: ^NDX\n",
    "backtest_plot(df_account_value, \n",
    "              baseline_ticker = '^DJI', \n",
    "              baseline_start = df_account_value.loc[0,'date'],\n",
    "              baseline_end = df_account_value.loc[len(df_account_value)-1,'date'])"
   ]
  },
  {
   "cell_type": "code",
   "execution_count": null,
   "metadata": {},
   "outputs": [],
   "source": [
    "## Modified agent"
   ]
  },
  {
   "cell_type": "code",
   "execution_count": null,
   "metadata": {},
   "outputs": [],
   "source": [
    "from finrl.agents.stablebaselines3.models import *"
   ]
  },
  {
   "cell_type": "code",
   "execution_count": null,
   "metadata": {},
   "outputs": [],
   "source": [
    "class DRLEnsembleAgentv2:\n",
    "    @staticmethod\n",
    "    def get_model(\n",
    "        model_name,\n",
    "        env,\n",
    "        policy=\"MlpPolicy\",\n",
    "        policy_kwargs=None,\n",
    "        model_kwargs=None,\n",
    "        seed=None,\n",
    "        verbose=1,\n",
    "    ):\n",
    "        if model_name not in MODELS:\n",
    "            raise NotImplementedError(\"NotImplementedError\")\n",
    "\n",
    "        if model_kwargs is None:\n",
    "            temp_model_kwargs = MODEL_KWARGS[model_name]\n",
    "        else:\n",
    "            temp_model_kwargs = model_kwargs.copy()\n",
    "\n",
    "        if \"action_noise\" in temp_model_kwargs:\n",
    "            n_actions = env.action_space.shape[-1]\n",
    "            temp_model_kwargs[\"action_noise\"] = NOISE[\n",
    "                temp_model_kwargs[\"action_noise\"]\n",
    "            ](mean=np.zeros(n_actions), sigma=0.1 * np.ones(n_actions))\n",
    "        print(temp_model_kwargs)\n",
    "        return MODELS[model_name](\n",
    "            policy=policy,\n",
    "            env=env,\n",
    "            tensorboard_log=f\"{config.TENSORBOARD_LOG_DIR}/{model_name}\",\n",
    "            verbose=verbose,\n",
    "            policy_kwargs=policy_kwargs,\n",
    "            seed=seed,\n",
    "            **temp_model_kwargs,\n",
    "        )\n",
    "\n",
    "    @staticmethod\n",
    "    def train_model(model, model_name, tb_log_name, iter_num, total_timesteps=5000):\n",
    "        model = model.learn(\n",
    "            total_timesteps=total_timesteps,\n",
    "            tb_log_name=tb_log_name,\n",
    "            callback=TensorboardCallback(),\n",
    "        )\n",
    "        model.save(\n",
    "            f\"{config.TRAINED_MODEL_DIR}/{model_name.upper()}_{total_timesteps // 1000}k_{iter_num}\"\n",
    "        )\n",
    "        return model\n",
    "\n",
    "    @staticmethod\n",
    "    def get_validation_sharpe(iteration, model_name):\n",
    "        \"\"\"Calculate Sharpe ratio based on validation results\"\"\"\n",
    "        df_total_value = pd.read_csv(\n",
    "            f\"results/account_value_validation_{model_name}_{iteration}.csv\"\n",
    "        )\n",
    "        # If the agent did not make any transaction\n",
    "        if df_total_value[\"daily_return\"].var() == 0:\n",
    "            if df_total_value[\"daily_return\"].mean() > 0:\n",
    "                return np.inf\n",
    "            else:\n",
    "                return 0.0\n",
    "        else:\n",
    "            return (\n",
    "                (4**0.5)\n",
    "                * df_total_value[\"daily_return\"].mean()\n",
    "                / df_total_value[\"daily_return\"].std()\n",
    "            )\n",
    "    @staticmethod\n",
    "    def get_modelWeights(model,path):\n",
    "        file_list = os.listdir(path)\n",
    "        sorted_list = sorted([f for f in file_list if f.lower().startswith(model)])\n",
    "        if not sorted_list:\n",
    "            raise(\"Pretrained weights not Found!!\")\n",
    "        else:\n",
    "            print(f\"Found weights {sorted_list[-1]}!!\")\n",
    "        return sorted_list[-1]\n",
    "        \n",
    "\n",
    "    def __init__(\n",
    "        self,\n",
    "        df,\n",
    "        train_period,\n",
    "        val_test_period,\n",
    "        rebalance_window,\n",
    "        validation_window,\n",
    "        stock_dim,\n",
    "        hmax,\n",
    "        initial_amount,\n",
    "        buy_cost_pct,\n",
    "        sell_cost_pct,\n",
    "        reward_scaling,\n",
    "        state_space,\n",
    "        action_space,\n",
    "        tech_indicator_list,\n",
    "        print_verbosity,\n",
    "        use_pretrain=False,\n",
    "        pretrain_pth=\"\",\n",
    "    ):\n",
    "        self.df = df\n",
    "        self.train_period = train_period\n",
    "        self.val_test_period = val_test_period\n",
    "\n",
    "        self.unique_trade_date = df[(df.date > val_test_period[0]) & (df.date <= val_test_period[1])].date.unique()\n",
    "        self.rebalance_window = rebalance_window\n",
    "        self.validation_window = validation_window\n",
    "\n",
    "        self.stock_dim = stock_dim\n",
    "        self.hmax = hmax\n",
    "        self.initial_amount = initial_amount\n",
    "        self.buy_cost_pct = buy_cost_pct\n",
    "        self.sell_cost_pct = sell_cost_pct\n",
    "        self.reward_scaling = reward_scaling\n",
    "        self.state_space = state_space\n",
    "        self.action_space = action_space\n",
    "        self.tech_indicator_list = tech_indicator_list\n",
    "        self.print_verbosity = print_verbosity\n",
    "        self.use_pretrain=use_pretrain\n",
    "        self.pretrain_pth=pretrain_pth\n",
    "\n",
    "    def DRL_validation(self, model, test_data, test_env, test_obs):\n",
    "        \"\"\"validation process\"\"\"\n",
    "        for _ in range(len(test_data.index.unique())):\n",
    "            action, _states = model.predict(test_obs)\n",
    "            test_obs, rewards, dones, info = test_env.step(action)\n",
    "\n",
    "    def DRL_prediction(\n",
    "        self, model, name, last_state, iter_num, turbulence_threshold, initial\n",
    "    ):\n",
    "        \"\"\"make a prediction based on trained model\"\"\"\n",
    "\n",
    "        ## trading env\n",
    "        trade_data = data_split(\n",
    "            self.df,\n",
    "            start=self.unique_trade_date[iter_num - self.rebalance_window],\n",
    "            end=self.unique_trade_date[iter_num],\n",
    "        )\n",
    "        trade_env = DummyVecEnv(\n",
    "            [\n",
    "                lambda: StockTradingEnv(\n",
    "                    df=trade_data,\n",
    "                    stock_dim=self.stock_dim,\n",
    "                    hmax=self.hmax,\n",
    "                    initial_amount=self.initial_amount,\n",
    "                    num_stock_shares=[0] * self.stock_dim,\n",
    "                    buy_cost_pct=[self.buy_cost_pct] * self.stock_dim,\n",
    "                    sell_cost_pct=[self.sell_cost_pct] * self.stock_dim,\n",
    "                    reward_scaling=self.reward_scaling,\n",
    "                    state_space=self.state_space,\n",
    "                    action_space=self.action_space,\n",
    "                    tech_indicator_list=self.tech_indicator_list,\n",
    "                    turbulence_threshold=turbulence_threshold,\n",
    "                    initial=initial,\n",
    "                    previous_state=last_state,\n",
    "                    model_name=name,\n",
    "                    mode=\"trade\",\n",
    "                    iteration=iter_num,\n",
    "                    print_verbosity=self.print_verbosity,\n",
    "                )\n",
    "            ]\n",
    "        )\n",
    "\n",
    "        trade_obs = trade_env.reset()\n",
    "\n",
    "        for i in range(len(trade_data.index.unique())):\n",
    "            action, _states = model.predict(trade_obs)\n",
    "            print(f\"Training actions are {action}\")\n",
    "            trade_obs, rewards, dones, info = trade_env.step(action)\n",
    "            if i == (len(trade_data.index.unique()) - 2):\n",
    "                # print(env_test.render())\n",
    "                last_state = trade_env.render()\n",
    "\n",
    "        df_last_state = pd.DataFrame({\"last_state\": last_state})\n",
    "        df_last_state.to_csv(f\"results/last_state_{name}_{i}.csv\", index=False)\n",
    "        return last_state\n",
    "    \n",
    "    \n",
    "    def DRL_single_prediction(\n",
    "        self, model, name=\"ensemble\", initial=True,last_state=[]\n",
    "    ):\n",
    "        \"\"\"make a prediction based on trained model\"\"\"\n",
    "\n",
    "        ## trading env\n",
    "        trade_data = data_split(\n",
    "            self.df,\n",
    "            start=self.unique_trade_date[-1],\n",
    "            end=\"2080-01-01\",\n",
    "        )\n",
    "        trade_env = DummyVecEnv(\n",
    "            [\n",
    "                lambda: StockTradingEnv(\n",
    "                    df=trade_data,\n",
    "                    stock_dim=self.stock_dim,\n",
    "                    hmax=self.hmax,\n",
    "                    initial_amount=self.initial_amount,\n",
    "                    num_stock_shares=[0] * self.stock_dim,\n",
    "                    buy_cost_pct=[self.buy_cost_pct] * self.stock_dim,\n",
    "                    sell_cost_pct=[self.sell_cost_pct] * self.stock_dim,\n",
    "                    reward_scaling=self.reward_scaling,\n",
    "                    state_space=self.state_space,\n",
    "                    action_space=self.action_space,\n",
    "                    tech_indicator_list=self.tech_indicator_list,\n",
    "                    turbulence_threshold=turbulence_threshold,\n",
    "                    initial=initial,\n",
    "                    previous_state=last_state,\n",
    "                    model_name=name,\n",
    "                    mode=\"trade\",\n",
    "                    print_verbosity=self.print_verbosity,\n",
    "                )\n",
    "            ]\n",
    "        )\n",
    "\n",
    "        trade_obs = trade_env.reset()\n",
    "        actions=[]\n",
    "\n",
    "        for i in range(len(trade_data.index.unique())):\n",
    "            action, _states = model.predict(trade_obs)\n",
    "            print(f\"Day Action is {action}\")\n",
    "            actions.append(action)\n",
    "\n",
    "        return actions,last_state\n",
    "\n",
    "    def run_ensemble_strategy(\n",
    "        self, A2C_model_kwargs, PPO_model_kwargs, DDPG_model_kwargs, timesteps_dict\n",
    "    ):\n",
    "        \"\"\"Ensemble Strategy that combines PPO, A2C and DDPG\"\"\"\n",
    "        print(\"============Start Ensemble Strategy============\")\n",
    "        # for ensemble model, it's necessary to feed the last state\n",
    "        # of the previous model to the current model as the initial state\n",
    "        last_state_ensemble = []\n",
    "\n",
    "        ppo_sharpe_list = []\n",
    "        ddpg_sharpe_list = []\n",
    "        a2c_sharpe_list = []\n",
    "\n",
    "        model_use = []\n",
    "        validation_start_date_list = []\n",
    "        validation_end_date_list = []\n",
    "        iteration_list = []\n",
    "\n",
    "        insample_turbulence = self.df[\n",
    "            (self.df.date < self.train_period[1])\n",
    "            & (self.df.date >= self.train_period[0])\n",
    "        ]\n",
    "        insample_turbulence_threshold = np.quantile(\n",
    "            insample_turbulence.turbulence.values, 0.90\n",
    "        )\n",
    "\n",
    "        start = time.time()\n",
    "        for i in range(self.rebalance_window + self.validation_window, len(self.unique_trade_date),self.rebalance_window,):\n",
    "            validation_start_date = self.unique_trade_date[i - self.rebalance_window - self.validation_window]\n",
    "            validation_end_date = self.unique_trade_date[i - self.rebalance_window]\n",
    "            validation_start_date_list.append(validation_start_date)\n",
    "            validation_end_date_list.append(validation_end_date)\n",
    "            iteration_list.append(i)\n",
    "\n",
    "            print(\"============================================\")\n",
    "            ## initial state is empty\n",
    "            if i - self.rebalance_window - self.validation_window == 0:\n",
    "                # inital state\n",
    "                initial = True\n",
    "            else:\n",
    "                # previous state\n",
    "                initial = False\n",
    "\n",
    "            # Tuning trubulence index based on historical data\n",
    "            # Turbulence lookback window is one quarter (63 days)\n",
    "            end_date_index = self.df.index[self.df[\"date\"]== self.unique_trade_date[i - self.rebalance_window - self.validation_window]\n",
    "            ].to_list()[-1]\n",
    "            start_date_index = end_date_index - 63 + 1\n",
    "\n",
    "            historical_turbulence = self.df.iloc[start_date_index : (end_date_index + 1), :]\n",
    "\n",
    "            historical_turbulence = historical_turbulence.drop_duplicates(subset=[\"date\"])\n",
    "\n",
    "            historical_turbulence_mean = np.mean(historical_turbulence.turbulence.values)\n",
    "\n",
    "            # print(historical_turbulence_mean)\n",
    "\n",
    "            if historical_turbulence_mean > insample_turbulence_threshold:\n",
    "                # if the mean of the historical data is greater than the 90% quantile of insample turbulence data\n",
    "                # then we assume that the current market is volatile,\n",
    "                # therefore we set the 90% quantile of insample turbulence data as the turbulence threshold\n",
    "                # meaning the current turbulence can't exceed the 90% quantile of insample turbulence data\n",
    "                turbulence_threshold = insample_turbulence_threshold\n",
    "            else:\n",
    "                # if the mean of the historical data is less than the 90% quantile of insample turbulence data\n",
    "                # then we tune up the turbulence_threshold, meaning we lower the risk\n",
    "                turbulence_threshold = np.quantile(\n",
    "                    insample_turbulence.turbulence.values, 1\n",
    "                )\n",
    "\n",
    "            turbulence_threshold = np.quantile(\n",
    "                insample_turbulence.turbulence.values, 0.99\n",
    "            )\n",
    "            print(\"turbulence_threshold: \", turbulence_threshold)\n",
    "            \n",
    "            self.turbulence_threshold=turbulence_threshold\n",
    "\n",
    "            ############## Environment Setup starts ##############\n",
    "            ## training env\n",
    "            train = data_split(\n",
    "                self.df,\n",
    "                start=self.train_period[0],\n",
    "                end=self.unique_trade_date[\n",
    "                    i - self.rebalance_window - self.validation_window\n",
    "                ],\n",
    "            )\n",
    "            self.train_env = DummyVecEnv(\n",
    "                [\n",
    "                    lambda: StockTradingEnv(\n",
    "                        df=train,\n",
    "                        stock_dim=self.stock_dim,\n",
    "                        hmax=self.hmax,\n",
    "                        initial_amount=self.initial_amount,\n",
    "                        num_stock_shares=[0] * self.stock_dim,\n",
    "                        buy_cost_pct=[self.buy_cost_pct] * self.stock_dim,\n",
    "                        sell_cost_pct=[self.sell_cost_pct] * self.stock_dim,\n",
    "                        reward_scaling=self.reward_scaling,\n",
    "                        state_space=self.state_space,\n",
    "                        action_space=self.action_space,\n",
    "                        tech_indicator_list=self.tech_indicator_list,\n",
    "                        print_verbosity=self.print_verbosity,\n",
    "                    )\n",
    "                ]\n",
    "            )\n",
    "            validation = data_split(self.df,start=self.unique_trade_date[i - self.rebalance_window - self.validation_window\n",
    "                ],\n",
    "                end=self.unique_trade_date[i - self.rebalance_window],\n",
    "            )\n",
    "            ############## Environment Setup ends ##############\n",
    "\n",
    "            ############## Training and Validation starts ##############\n",
    "            print(\n",
    "                \"======Model training from: \",\n",
    "                self.train_period[0],\n",
    "                \"to \",\n",
    "                self.unique_trade_date[\n",
    "                    i - self.rebalance_window - self.validation_window\n",
    "                ],\n",
    "            )\n",
    "            # print(\"training: \",len(data_split(df, start=20090000, end=test.datadate.unique()[i-rebalance_window]) ))\n",
    "            # print(\"==============Model Training===========\")\n",
    "            model_a2c = self.get_model(\"a2c\", self.train_env, policy=\"MlpPolicy\", model_kwargs=A2C_model_kwargs)\n",
    "            if self.use_pretrain:\n",
    "                print(\"======Loading A2C Pretrained Model========\")\n",
    "                model_a2c.load(os.path.join(self.pretrain_pth,DRLEnsembleAgentv2.get_modelWeights(\"a2c\",self.pretrain_pth)))\n",
    "            print(\"======A2C Training========\")\n",
    "            model_a2c = self.train_model(\n",
    "                model_a2c,\n",
    "                \"a2c\",\n",
    "                tb_log_name=f\"a2c_{i}\",\n",
    "                iter_num=i,\n",
    "                total_timesteps=timesteps_dict[\"a2c\"],\n",
    "            )  # 100_000\n",
    "\n",
    "            print(\n",
    "                \"======A2C Validation from: \",\n",
    "                validation_start_date,\n",
    "                \"to \",\n",
    "                validation_end_date,\n",
    "            )\n",
    "            val_env_a2c = DummyVecEnv(\n",
    "                [\n",
    "                    lambda: StockTradingEnv(\n",
    "                        df=validation,\n",
    "                        stock_dim=self.stock_dim,\n",
    "                        hmax=self.hmax,\n",
    "                        initial_amount=self.initial_amount,\n",
    "                        num_stock_shares=[0] * self.stock_dim,\n",
    "                        buy_cost_pct=[self.buy_cost_pct] * self.stock_dim,\n",
    "                        sell_cost_pct=[self.sell_cost_pct] * self.stock_dim,\n",
    "                        reward_scaling=self.reward_scaling,\n",
    "                        state_space=self.state_space,\n",
    "                        action_space=self.action_space,\n",
    "                        tech_indicator_list=self.tech_indicator_list,\n",
    "                        turbulence_threshold=turbulence_threshold,\n",
    "                        iteration=i,\n",
    "                        model_name=\"A2C\",\n",
    "                        mode=\"validation\",\n",
    "                        print_verbosity=self.print_verbosity,\n",
    "                    )\n",
    "                ]\n",
    "            )\n",
    "            val_obs_a2c = val_env_a2c.reset()\n",
    "            self.DRL_validation(\n",
    "                model=model_a2c,\n",
    "                test_data=validation,\n",
    "                test_env=val_env_a2c,\n",
    "                test_obs=val_obs_a2c,\n",
    "            )\n",
    "            sharpe_a2c = self.get_validation_sharpe(i, model_name=\"A2C\")\n",
    "            print(\"A2C Sharpe Ratio: \", sharpe_a2c)\n",
    "\n",
    "            model_ppo = self.get_model(\"ppo\", self.train_env, policy=\"MlpPolicy\", model_kwargs=PPO_model_kwargs)\n",
    "            if self.use_pretrain:\n",
    "                print(\"======Loading PPO Pretrained Model========\")\n",
    "                model_ppo.load(os.path.join(self.pretrain_pth,DRLEnsembleAgentv2.get_modelWeights(\"ppo\",self.pretrain_pth)))\n",
    "            print(\"======PPO Training========\")\n",
    "            model_ppo = self.train_model(\n",
    "                model_ppo,\n",
    "                \"ppo\",\n",
    "                tb_log_name=f\"ppo_{i}\",\n",
    "                iter_num=i,\n",
    "                total_timesteps=timesteps_dict[\"ppo\"],\n",
    "            )  # 100_000\n",
    "            print(\n",
    "                \"======PPO Validation from: \",\n",
    "                validation_start_date,\n",
    "                \"to \",\n",
    "                validation_end_date,\n",
    "            )\n",
    "            val_env_ppo = DummyVecEnv(\n",
    "                [\n",
    "                    lambda: StockTradingEnv(\n",
    "                        df=validation,\n",
    "                        stock_dim=self.stock_dim,\n",
    "                        hmax=self.hmax,\n",
    "                        initial_amount=self.initial_amount,\n",
    "                        num_stock_shares=[0] * self.stock_dim,\n",
    "                        buy_cost_pct=[self.buy_cost_pct] * self.stock_dim,\n",
    "                        sell_cost_pct=[self.sell_cost_pct] * self.stock_dim,\n",
    "                        reward_scaling=self.reward_scaling,\n",
    "                        state_space=self.state_space,\n",
    "                        action_space=self.action_space,\n",
    "                        tech_indicator_list=self.tech_indicator_list,\n",
    "                        turbulence_threshold=turbulence_threshold,\n",
    "                        iteration=i,\n",
    "                        model_name=\"PPO\",\n",
    "                        mode=\"validation\",\n",
    "                        print_verbosity=self.print_verbosity,\n",
    "                    )\n",
    "                ]\n",
    "            )\n",
    "            val_obs_ppo = val_env_ppo.reset()\n",
    "            self.DRL_validation(\n",
    "                model=model_ppo,\n",
    "                test_data=validation,\n",
    "                test_env=val_env_ppo,\n",
    "                test_obs=val_obs_ppo,\n",
    "            )\n",
    "            sharpe_ppo = self.get_validation_sharpe(i, model_name=\"PPO\")\n",
    "            print(\"PPO Sharpe Ratio: \", sharpe_ppo)\n",
    "            \n",
    "            model_ddpg = self.get_model(\n",
    "                \"ddpg\",\n",
    "                self.train_env,\n",
    "                policy=\"MlpPolicy\",\n",
    "                model_kwargs=DDPG_model_kwargs,\n",
    "            )\n",
    "            if self.use_pretrain:\n",
    "                print(\"======Loading DDPG Pretrained Model========\")\n",
    "                model_ddpg.load(os.path.join(self.pretrain_pth,DRLEnsembleAgentv2.get_modelWeights(\"ddpg\",self.pretrain_pth)))\n",
    "            print(\"======DDPG Training========\")\n",
    "            model_ddpg = self.train_model(\n",
    "                model_ddpg,\n",
    "                \"ddpg\",\n",
    "                tb_log_name=f\"ddpg_{i}\",\n",
    "                iter_num=i,\n",
    "                total_timesteps=timesteps_dict[\"ddpg\"],\n",
    "            )  # 50_000\n",
    "            print(\n",
    "                \"======DDPG Validation from: \",\n",
    "                validation_start_date,\n",
    "                \"to \",\n",
    "                validation_end_date,\n",
    "            )\n",
    "            val_env_ddpg = DummyVecEnv(\n",
    "                [\n",
    "                    lambda: StockTradingEnv(\n",
    "                        df=validation,\n",
    "                        stock_dim=self.stock_dim,\n",
    "                        hmax=self.hmax,\n",
    "                        initial_amount=self.initial_amount,\n",
    "                        num_stock_shares=[0] * self.stock_dim,\n",
    "                        buy_cost_pct=[self.buy_cost_pct] * self.stock_dim,\n",
    "                        sell_cost_pct=[self.sell_cost_pct] * self.stock_dim,\n",
    "                        reward_scaling=self.reward_scaling,\n",
    "                        state_space=self.state_space,\n",
    "                        action_space=self.action_space,\n",
    "                        tech_indicator_list=self.tech_indicator_list,\n",
    "                        turbulence_threshold=turbulence_threshold,\n",
    "                        iteration=i,\n",
    "                        model_name=\"DDPG\",\n",
    "                        mode=\"validation\",\n",
    "                        print_verbosity=self.print_verbosity,\n",
    "                    )\n",
    "                ]\n",
    "            )\n",
    "            val_obs_ddpg = val_env_ddpg.reset()\n",
    "            self.DRL_validation(\n",
    "                model=model_ddpg,\n",
    "                test_data=validation,\n",
    "                test_env=val_env_ddpg,\n",
    "                test_obs=val_obs_ddpg,\n",
    "            )\n",
    "            sharpe_ddpg = self.get_validation_sharpe(i, model_name=\"DDPG\")\n",
    "\n",
    "            ppo_sharpe_list.append(sharpe_ppo)\n",
    "            a2c_sharpe_list.append(sharpe_a2c)\n",
    "            ddpg_sharpe_list.append(sharpe_ddpg)\n",
    "\n",
    "            print(\"======Best Model Retraining from: \",self.train_period[0],\"to \",self.unique_trade_date[i - self.rebalance_window],)\n",
    "            # Environment setup for model retraining up to first trade date\n",
    "            # train_full = data_split(self.df, start=self.train_period[0], end=self.unique_trade_date[i - self.rebalance_window])\n",
    "            # self.train_full_env = DummyVecEnv([lambda: StockTradingEnv(train_full,\n",
    "            #                                                    self.stock_dim,\n",
    "            #                                                    self.hmax,\n",
    "            #                                                    self.initial_amount,\n",
    "            #                                                    self.buy_cost_pct,\n",
    "            #                                                    self.sell_cost_pct,\n",
    "            #                                                    self.reward_scaling,\n",
    "            #                                                    self.state_space,\n",
    "            #                                                    self.action_space,\n",
    "            #                                                    self.tech_indicator_list,\n",
    "            #                                                    print_verbosity=self.print_verbosity)])\n",
    "            # Model Selection based on sharpe ratio\n",
    "            if (sharpe_ppo >= sharpe_a2c) & (sharpe_ppo >= sharpe_ddpg):\n",
    "                model_use.append(\"PPO\")\n",
    "                model_ensemble = model_ppo\n",
    "\n",
    "                # model_ensemble = self.get_model(\"ppo\",self.train_full_env,policy=\"MlpPolicy\",model_kwargs=PPO_model_kwargs)\n",
    "                # model_ensemble = self.train_model(model_ensemble, \"ensemble\", tb_log_name=\"ensemble_{}\".format(i), iter_num = i, total_timesteps=timesteps_dict['ppo']) #100_000\n",
    "            elif (sharpe_a2c > sharpe_ppo) & (sharpe_a2c > sharpe_ddpg):\n",
    "                model_use.append(\"A2C\")\n",
    "                model_ensemble = model_a2c\n",
    "\n",
    "                # model_ensemble = self.get_model(\"a2c\",self.train_full_env,policy=\"MlpPolicy\",model_kwargs=A2C_model_kwargs)\n",
    "                # model_ensemble = self.train_model(model_ensemble, \"ensemble\", tb_log_name=\"ensemble_{}\".format(i), iter_num = i, total_timesteps=timesteps_dict['a2c']) #100_000\n",
    "            else:\n",
    "                model_use.append(\"DDPG\")\n",
    "                model_ensemble = model_ddpg\n",
    "\n",
    "                # model_ensemble = self.get_model(\"ddpg\",self.train_full_env,policy=\"MlpPolicy\",model_kwargs=DDPG_model_kwargs)\n",
    "                # model_ensemble = self.train_model(model_ensemble, \"ensemble\", tb_log_name=\"ensemble_{}\".format(i), iter_num = i, total_timesteps=timesteps_dict['ddpg']) #50_000\n",
    "            \n",
    "            #self.final_model=model_ensemble\n",
    "            ############## Training and Validation ends ##############\n",
    "\n",
    "            ############## Trading starts ##############\n",
    "            print(\n",
    "                \"======Trading from: \",\n",
    "                self.unique_trade_date[i - self.rebalance_window],\n",
    "                \"to \",\n",
    "                self.unique_trade_date[i],\n",
    "            )\n",
    "            # print(\"Used Model: \", model_ensemble)\n",
    "            last_state_ensemble = self.DRL_prediction(\n",
    "                model=model_ensemble,\n",
    "                name=\"ensemble\",\n",
    "                last_state=last_state_ensemble,\n",
    "                iter_num=i,\n",
    "                turbulence_threshold=turbulence_threshold,\n",
    "                initial=initial,\n",
    "            )\n",
    "            ############## Trading ends ##############\n",
    "        ## Train on full dataset\n",
    "        print(f\"*\"*100)\n",
    "        print(f\"Training on full data!!\")\n",
    "        print(f\"*\"*100)\n",
    "        print(\n",
    "                \"===== Training Model On Full Dataset from: \",\n",
    "                self.train_period[0],\n",
    "                \"to \",\n",
    "                self.unique_trade_date[-1],\n",
    "            )\n",
    "        train_full = data_split(self.df, start=self.train_period[0], end=self.unique_trade_date[-1])\n",
    "        self.train_full_env = DummyVecEnv([lambda: StockTradingEnv(train_full,\n",
    "                                                            self.stock_dim,\n",
    "                                                            self.hmax,\n",
    "                                                            self.initial_amount,\n",
    "                                                            self.buy_cost_pct,\n",
    "                                                            self.sell_cost_pct,\n",
    "                                                            self.reward_scaling,\n",
    "                                                            self.state_space,\n",
    "                                                            self.action_space,\n",
    "                                                            self.tech_indicator_list,\n",
    "                                                            print_verbosity=self.print_verbosity)])\n",
    "        if model_use[-1]==\"DDPG\":\n",
    "            model_ensemble = self.get_model(\"ddpg\",self.train_full_env,policy=\"MlpPolicy\",model_kwargs=DDPG_model_kwargs)\n",
    "            if self.use_pretrain:\n",
    "                print(\"======Loading DDPG Pretrained Model========\")\n",
    "                model_ensemble.load(os.path.join(self.pretrain_pth,DRLEnsembleAgentv2.get_modelWeights(\"ddpg\",self.pretrain_pth)))\n",
    "            model_ensemble = self.train_model(model_ensemble, \"ensemble\", tb_log_name=\"full_ensemble_{}\".format(i), iter_num = i, total_timesteps=timesteps_dict['ddpg'])\n",
    "        elif model_use[-1]==\"A2C\":\n",
    "            model_ensemble = self.get_model(\"a2c\",self.train_full_env,policy=\"MlpPolicy\",model_kwargs=A2C_model_kwargs)\n",
    "            if self.use_pretrain:\n",
    "                print(\"======Loading A2C Pretrained Model========\")\n",
    "                model_ensemble.load(os.path.join(self.pretrain_pth,DRLEnsembleAgentv2.get_modelWeights(\"a2c\",self.pretrain_pth)))\n",
    "            model_ensemble = self.train_model(model_ensemble, \"ensemble\", tb_log_name=\"full_ensemble_{}\".format(i), iter_num = i, total_timesteps=timesteps_dict['a2c'])\n",
    "        else:\n",
    "            model_ensemble = self.get_model(\"ppo\",self.train_full_env,policy=\"MlpPolicy\",model_kwargs=PPO_model_kwargs)\n",
    "            if self.use_pretrain:\n",
    "                print(\"======Loading PPO Pretrained Model========\")\n",
    "                model_ensemble.load(os.path.join(self.pretrain_pth,DRLEnsembleAgentv2.get_modelWeights(\"ppo\",self.pretrain_pth)))\n",
    "            model_ensemble = self.train_model(model_ensemble, \"ensemble\", tb_log_name=\"full_ensemble_{}\".format(i), iter_num = i, total_timesteps=timesteps_dict['ppo']) #100\n",
    "            \n",
    "\n",
    "        end = time.time()\n",
    "        print(\"Ensemble Strategy took: \", (end - start) / 60, \" minutes\")\n",
    "        ## Assign the model as final model\n",
    "        self.final_model=model_ensemble\n",
    "        self.final_model_name=model_use[-1]\n",
    "\n",
    "        df_summary = pd.DataFrame(\n",
    "            [\n",
    "                iteration_list,\n",
    "                validation_start_date_list,\n",
    "                validation_end_date_list,\n",
    "                model_use,\n",
    "                a2c_sharpe_list,\n",
    "                ppo_sharpe_list,\n",
    "                ddpg_sharpe_list,\n",
    "            ]\n",
    "        ).T\n",
    "        df_summary.columns = [\n",
    "            \"Iter\",\n",
    "            \"Val Start\",\n",
    "            \"Val End\",\n",
    "            \"Model Used\",\n",
    "            \"A2C Sharpe\",\n",
    "            \"PPO Sharpe\",\n",
    "            \"DDPG Sharpe\",\n",
    "        ]\n",
    "\n",
    "        return df_summary"
   ]
  },
  {
   "cell_type": "code",
   "execution_count": null,
   "metadata": {},
   "outputs": [],
   "source": [
    "ensemble_agent = DRLEnsembleAgentv2(df=processed,\n",
    "                 train_period=(TRAIN_START_DATE,TRAIN_END_DATE),\n",
    "                 val_test_period=(TEST_START_DATE,TEST_END_DATE),\n",
    "                 rebalance_window=rebalance_window, \n",
    "                 validation_window=validation_window,\n",
    "                 use_pretrain=True,\n",
    "                 pretrain_pth=\"/mnt/trained_models\",                   \n",
    "                 **env_kwargs)"
   ]
  },
  {
   "cell_type": "code",
   "execution_count": null,
   "metadata": {},
   "outputs": [],
   "source": [
    "df_summary = ensemble_agent.run_ensemble_strategy(A2C_model_kwargs,\n",
    "                                                 PPO_model_kwargs,\n",
    "                                                 DDPG_model_kwargs,\n",
    "                                                 timesteps_dict)"
   ]
  },
  {
   "cell_type": "code",
   "execution_count": null,
   "metadata": {},
   "outputs": [],
   "source": [
    "df_summary"
   ]
  },
  {
   "cell_type": "code",
   "execution_count": null,
   "metadata": {},
   "outputs": [],
   "source": [
    "# Testing stuff\n",
    "model=ensemble_agent2.get_model(\"ddpg\",ensemble_agent2.train_env,policy=\"MlpPolicy\",model_kwargs=DDPG_model_kwargs)"
   ]
  },
  {
   "cell_type": "code",
   "execution_count": null,
   "metadata": {},
   "outputs": [],
   "source": [
    "file_list = os.listdir(\"/mnt/trained_models\")\n",
    "sorted_list = sorted([f for f in file_list if f.lower().startswith('ddpg')])\n",
    "sorted_list"
   ]
  },
  {
   "cell_type": "code",
   "execution_count": null,
   "metadata": {},
   "outputs": [],
   "source": [
    "cwd=\"/mnt/trained_models/DDPG_100k_126.zip\"\n",
    "model.load(cwd)"
   ]
  },
  {
   "cell_type": "code",
   "execution_count": null,
   "metadata": {},
   "outputs": [],
   "source": []
  }
 ],
 "metadata": {
  "kernelspec": {
   "display_name": "Python 3",
   "language": "python",
   "name": "python3"
  },
  "language_info": {
   "codemirror_mode": {
    "name": "ipython",
    "version": 3
   },
   "file_extension": ".py",
   "mimetype": "text/x-python",
   "name": "python",
   "nbconvert_exporter": "python",
   "pygments_lexer": "ipython3",
   "version": "3.8.5"
  }
 },
 "nbformat": 4,
 "nbformat_minor": 4
}
